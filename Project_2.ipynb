{
  "cells": [
    {
      "cell_type": "markdown",
      "id": "42289889-bd57-434e-9637-d3e354756316",
      "metadata": {
        "id": "42289889-bd57-434e-9637-d3e354756316"
      },
      "source": [
        "<center> <img src = https://raw.githubusercontent.com/AndreyRysistov/DatasetsForPandas/main/hh%20label.jpg alt=\"drawing\" style=\"width:400px;\">"
      ]
    },
    {
      "cell_type": "markdown",
      "id": "829cb75b-f14e-4ba8-9195-7ba929a7d656",
      "metadata": {
        "id": "829cb75b-f14e-4ba8-9195-7ba929a7d656",
        "tags": []
      },
      "source": [
        "# <center> Проект: Анализ вакансий из HeadHunter\n",
        "   "
      ]
    },
    {
      "cell_type": "code",
      "execution_count": 70,
      "id": "bc4cc32c",
      "metadata": {},
      "outputs": [],
      "source": [
        "#Подразумевается, что все необходимые бибилотеки установлены, но при необходимости их можно инсталлировать командой (предварительно убрав с нее комментарий):\n",
        "#!pip install -r requirements.txt"
      ]
    },
    {
      "cell_type": "code",
      "execution_count": 71,
      "id": "dccfde33-2452-43fb-a8a5-5c6ebc02a71d",
      "metadata": {
        "id": "dccfde33-2452-43fb-a8a5-5c6ebc02a71d"
      },
      "outputs": [],
      "source": [
        "# Импорт основных библиотек для работы с БД и данными\n",
        "import psycopg2   \n",
        "import pandas as pd\n",
        "\n",
        "# Для \"красоты\" убираем предупреждения\n",
        "import warnings\n",
        "warnings.filterwarnings('ignore')"
      ]
    },
    {
      "cell_type": "code",
      "execution_count": 72,
      "id": "oVKH4ehvf8Ay",
      "metadata": {
        "id": "oVKH4ehvf8Ay"
      },
      "outputs": [],
      "source": [
        "# вставьте сюда параметры подключения из юнита 1. Работа с базой данных из Python \n",
        "\"\"\"\n",
        "впомогательная функция (выполнена для закрепления навыков программирования на Python) для\n",
        "формирования переменных доступа к БД (сервер,логин,пароль и т.д.), сохраненных в файле 'db_config.txt'\n",
        "\n",
        "пример файл 'db_config.txt' (фактически можно выполнить Copy & Paste из описания к заданию):\n",
        "\n",
        "DBNAME = 'project_sql'\n",
        "USER = 'skillfactory'\n",
        "PASSWORD = 'real_password'\n",
        "HOST = '84.201.134.129'\n",
        "PORT = 5432\n",
        "\n",
        "\"\"\"\n",
        "def load_db_config():\n",
        "    result = dict()\n",
        "    with open('db_config.txt', 'r') as db_config:\n",
        "        lines = db_config.readlines()\n",
        "        for line in lines:\n",
        "            line = line.replace(\"'\", \"\").strip()\n",
        "            key_val = line.split('=')\n",
        "            result[key_val[0].strip()] = key_val[1].strip()\n",
        "    return result['DBNAME'], result['USER'], result['HOST'], result['PASSWORD'], result['PORT']\n",
        "\n",
        "# сохраняем конф. данные соедения к БД в соот. переменные\n",
        "DBNAME, USER, HOST, PASSWORD, PORT = load_db_config()\n",
        "\n",
        "\"\"\"\n",
        "вспомогательная функция, которая:\n",
        "- открывает соединение с БД\n",
        "- с помощью Pandas загружает данные в результирующий DataFrame, \"описанные\" в строке запроса SQL\n",
        "- закрывает соединение с БД\n",
        "- по умолчанию(можно отключить) выводит результирующий DataFrame на экран\n",
        "- возвращает результат в виде DataFrame\n",
        "\"\"\"\n",
        "def load_and_show_data(sql_query, show_result=True, show_index=False, title_of_result='Результат запроса:'):\n",
        "    with psycopg2.connect(\n",
        "        dbname=DBNAME,\n",
        "        user=USER,\n",
        "        host=HOST,\n",
        "        password=PASSWORD,\n",
        "        port=PORT\n",
        "    ) as conn:\n",
        "        result = pd.read_sql_query(sql_query, conn)\n",
        "    conn.close()\n",
        "    if show_result:\n",
        "        print(title_of_result)\n",
        "        print(result.to_string(index=show_index))\n",
        "    return result"
      ]
    },
    {
      "cell_type": "markdown",
      "id": "0dc6476b-7a00-44f1-ac93-6e3baed33a29",
      "metadata": {
        "id": "0dc6476b-7a00-44f1-ac93-6e3baed33a29"
      },
      "source": [
        "# Юнит 3. Предварительный анализ данных"
      ]
    },
    {
      "cell_type": "markdown",
      "id": "889782b6-8d1c-410e-8920-e57f27917c64",
      "metadata": {
        "id": "889782b6-8d1c-410e-8920-e57f27917c64"
      },
      "source": [
        "1. Напишите запрос, который посчитает количество вакансий в нашей базе (вакансии находятся в таблице vacancies). "
      ]
    },
    {
      "cell_type": "code",
      "execution_count": 73,
      "id": "bc39e68e-ed02-4ee2-9235-7258a2f867a8",
      "metadata": {
        "id": "bc39e68e-ed02-4ee2-9235-7258a2f867a8"
      },
      "outputs": [
        {
          "name": "stdout",
          "output_type": "stream",
          "text": [
            "Результат запроса:\n",
            " vacancies_cnt\n",
            "         49197\n"
          ]
        }
      ],
      "source": [
        "# Обобщеный комментарий для запросов SQL Юнита 3\n",
        "# SELECT Count(*) - запрос количества записей\n",
        "# FROM  - выборка из требуемой таблицы\n",
        "\n",
        "load_and_show_data(f'''\n",
        "   SELECT Count(*) AS vacancies_cnt\n",
        "   FROM vacancies\n",
        "''');"
      ]
    },
    {
      "cell_type": "markdown",
      "id": "b583485d-1f9e-494e-ada4-80ffff7c53d6",
      "metadata": {
        "id": "b583485d-1f9e-494e-ada4-80ffff7c53d6"
      },
      "source": [
        "2. Напишите запрос, который посчитает количество работодателей (таблица employers). "
      ]
    },
    {
      "cell_type": "code",
      "execution_count": 74,
      "id": "5408c52c-3407-4a63-b25b-1aafa2322d28",
      "metadata": {
        "id": "5408c52c-3407-4a63-b25b-1aafa2322d28"
      },
      "outputs": [
        {
          "name": "stdout",
          "output_type": "stream",
          "text": [
            "Результат запроса:\n",
            " employers_cnt\n",
            "         23501\n"
          ]
        }
      ],
      "source": [
        "load_and_show_data(f'''\n",
        "    SELECT Count(*) AS employers_cnt\n",
        "    FROM employers\n",
        "''');"
      ]
    },
    {
      "cell_type": "markdown",
      "id": "a2bfff1f-c975-4bf6-84be-2185d79dcb76",
      "metadata": {
        "id": "a2bfff1f-c975-4bf6-84be-2185d79dcb76"
      },
      "source": [
        "3. Посчитате с помощью запроса количество регионов (таблица areas)."
      ]
    },
    {
      "cell_type": "code",
      "execution_count": 75,
      "id": "1m8QJwBYhey6",
      "metadata": {
        "id": "1m8QJwBYhey6"
      },
      "outputs": [
        {
          "name": "stdout",
          "output_type": "stream",
          "text": [
            "Результат запроса:\n",
            " areas_cnt\n",
            "      1362\n"
          ]
        }
      ],
      "source": [
        "load_and_show_data(f'''\n",
        "    SELECT Count(*) AS areas_cnt\n",
        "    FROM areas\n",
        "''');"
      ]
    },
    {
      "cell_type": "markdown",
      "id": "41bb59f3-53cc-4a67-a5bc-bedf573955e4",
      "metadata": {
        "id": "41bb59f3-53cc-4a67-a5bc-bedf573955e4"
      },
      "source": [
        "4. Посчитате с помощью запроса количество сфер деятельности в базе (таблица industries)."
      ]
    },
    {
      "cell_type": "code",
      "execution_count": 76,
      "id": "d286cf4c-707b-4cd2-9190-7ab3587d04a1",
      "metadata": {
        "id": "d286cf4c-707b-4cd2-9190-7ab3587d04a1"
      },
      "outputs": [
        {
          "name": "stdout",
          "output_type": "stream",
          "text": [
            "Результат запроса:\n",
            " industries_cnt\n",
            "            294\n"
          ]
        }
      ],
      "source": [
        "load_and_show_data(f'''\n",
        "    SELECT Count(*) AS industries_cnt\n",
        "    FROM industries\n",
        "''');"
      ]
    },
    {
      "cell_type": "markdown",
      "id": "9a8a2181-6914-448b-85f1-38f5f18b8a93",
      "metadata": {
        "id": "9a8a2181-6914-448b-85f1-38f5f18b8a93"
      },
      "source": [
        "***"
      ]
    },
    {
      "attachments": {},
      "cell_type": "markdown",
      "id": "be4e9bd3-a4db-4a20-82fb-6b02fc2957e0",
      "metadata": {
        "id": "be4e9bd3-a4db-4a20-82fb-6b02fc2957e0"
      },
      "source": [
        "### Юнит 3: Выводы по предварительному анализу данных\n",
        "\n",
        "**Итого:**\n",
        "- Всего вакансии: 49197 \n",
        "- Всего работодателей: 23501\n",
        "- Всего регионов(населенных пунктов): 1362\n",
        "- Всего сфер деятельности: 294\n",
        "\n",
        "Предварительно, зная только эту информацию и учитывая связи между данными, можно определенно утвреждать, что:\n",
        "- в среднем(минимум один) работодатель  предлагает **2** вакансий (49197 / 23501)\n",
        "- в среднем(минимум в одном) в регионе  предлагается **36** вакансий (49197 / 1362)\n",
        "- в среднем(минимум от одной) от каждой индустрии(сферы деятельности) предлагается **167** вакансий (49197 / 294)\n",
        "\n",
        "- в среднем(минимум в одном) регионе находится **17** работодателей (23501 / 1362)\n",
        "- в среднем(минимум одна) каждая индустрия представлена **79** компанией (работодателем) (23501 / 294)\n",
        "\n",
        "P.S.: в скобках есть оговорка (минимум ...), это означает, что может быть(и он наверняка есть) \"перекос\", т.е. когда, например, одна компания предлагает почти все вакансии, а каждая оставшаяся только по одной"
      ]
    },
    {
      "cell_type": "markdown",
      "id": "8d62a9f3-f64e-4fe7-bdac-c4dffa16155e",
      "metadata": {
        "id": "8d62a9f3-f64e-4fe7-bdac-c4dffa16155e"
      },
      "source": [
        "# Юнит 4. Детальный анализ вакансий"
      ]
    },
    {
      "cell_type": "markdown",
      "id": "93053d3d-b284-481a-9cf7-012d7014c0e0",
      "metadata": {
        "id": "93053d3d-b284-481a-9cf7-012d7014c0e0"
      },
      "source": [
        "1. Напишите запрос, который позволит узнать, сколько (cnt) вакансий в каждом регионе (area).\n",
        "Отсортируйте по количеству вакансий в порядке убывания."
      ]
    },
    {
      "cell_type": "code",
      "execution_count": 117,
      "id": "3f069da6-fdc9-4ae7-b514-fafe2675efd3",
      "metadata": {
        "id": "3f069da6-fdc9-4ae7-b514-fafe2675efd3"
      },
      "outputs": [
        {
          "name": "stdout",
          "output_type": "stream",
          "text": [
            "Топ-5 населенных пунктов по количеству вакансий\n",
            "           area  cnt\n",
            "         Москва 5333\n",
            "Санкт-Петербург 2851\n",
            "          Минск 2112\n",
            "    Новосибирск 2006\n",
            "         Алматы 1892\n"
          ]
        }
      ],
      "source": [
        "load_and_show_data(f'''\n",
        "    SELECT a.name area, Count(*) AS cnt\n",
        "    FROM areas a\n",
        "    JOIN  vacancies v ON a.id = v.area_id\n",
        "    GROUP BY area\n",
        "    ORDER BY cnt DESC\n",
        "    LIMIT 5\n",
        "''', title_of_result='Топ-5 населенных пунктов по количеству вакансий');"
      ]
    },
    {
      "cell_type": "markdown",
      "id": "4266f0b6-1646-492a-88b4-2f6a46502135",
      "metadata": {
        "id": "4266f0b6-1646-492a-88b4-2f6a46502135"
      },
      "source": [
        "2. Напишите запрос, чтобы определить у какого количества вакансий заполнено хотя бы одно из двух полей с зарплатой."
      ]
    },
    {
      "cell_type": "code",
      "execution_count": 78,
      "id": "0c44b350-72eb-4d65-8b54-a1fc449ba9fd",
      "metadata": {
        "id": "0c44b350-72eb-4d65-8b54-a1fc449ba9fd"
      },
      "outputs": [
        {
          "name": "stdout",
          "output_type": "stream",
          "text": [
            "Результат запроса:\n",
            " not_empty_salary_cnt\n",
            "                24073\n"
          ]
        }
      ],
      "source": [
        "load_and_show_data(f'''\n",
        "    SELECT Count(*) AS not_empty_salary_cnt\n",
        "    FROM vacancies\n",
        "    WHERE salary_from IS NOT NULL OR\n",
        "          salary_to   IS NOT NULL\n",
        "''');"
      ]
    },
    {
      "cell_type": "markdown",
      "id": "635c4d5d-f323-4c66-b428-50a088120aa0",
      "metadata": {
        "id": "635c4d5d-f323-4c66-b428-50a088120aa0"
      },
      "source": [
        "3. Найдите средние значения для нижней и верхней границы зарплатной вилки. Округлите значения до целого."
      ]
    },
    {
      "cell_type": "code",
      "execution_count": 79,
      "id": "603cdbe4-0ec3-4106-8eaf-c73fcdd29165",
      "metadata": {
        "id": "603cdbe4-0ec3-4106-8eaf-c73fcdd29165"
      },
      "outputs": [
        {
          "name": "stdout",
          "output_type": "stream",
          "text": [
            "Результат запроса:\n",
            " avg_salary_from  avg_salary_to\n",
            "         71065.0       110537.0\n"
          ]
        }
      ],
      "source": [
        "load_and_show_data(f'''\n",
        "    SELECT Round(Avg(salary_from)) avg_salary_from,\n",
        "           Round(Avg(salary_to)) avg_salary_to\n",
        "    FROM vacancies\n",
        "''');"
      ]
    },
    {
      "cell_type": "markdown",
      "id": "f3fdaec9-5fd3-4260-9cf5-1d7406b628a5",
      "metadata": {
        "id": "f3fdaec9-5fd3-4260-9cf5-1d7406b628a5"
      },
      "source": [
        "4. Напишите запрос, который выведет количество вакансий для каждого сочетания типа рабочего графика (schedule) и типа трудоустройства (employment), используемого в вакансиях. Результат отсортируйте по убыванию количества.\n"
      ]
    },
    {
      "cell_type": "code",
      "execution_count": 80,
      "id": "1ea710ec-871b-431e-9462-c7d0fd87011b",
      "metadata": {
        "id": "1ea710ec-871b-431e-9462-c7d0fd87011b"
      },
      "outputs": [
        {
          "name": "stdout",
          "output_type": "stream",
          "text": [
            "Результат для задания 4.4:\n",
            "        schedule       employment  cnt\n",
            "Удаленная работа Полная занятость 7802\n",
            "\n",
            "Результат для выводов Юнита 4:\n",
            "        schedule          employment   cnt\n",
            "     Полный день    Полная занятость 35367\n",
            "Удаленная работа    Полная занятость  7802\n",
            "   Гибкий график    Полная занятость  1593\n",
            "Удаленная работа Частичная занятость  1312\n",
            "  Сменный график    Полная занятость   940\n",
            "     Полный день          Стажировка   569\n",
            "  Вахтовый метод    Полная занятость   367\n",
            "     Полный день Частичная занятость   347\n",
            "   Гибкий график Частичная занятость   312\n",
            "     Полный день    Проектная работа   141\n",
            "Удаленная работа    Проектная работа   133\n",
            "   Гибкий график          Стажировка   116\n",
            "  Сменный график Частичная занятость   101\n",
            "Удаленная работа          Стажировка    64\n",
            "   Гибкий график    Проектная работа    18\n",
            "  Сменный график          Стажировка    12\n",
            "  Вахтовый метод    Проектная работа     2\n",
            "  Сменный график    Проектная работа     1\n"
          ]
        }
      ],
      "source": [
        "# Запрос для резельтата задания 4.4\n",
        "load_and_show_data('''\n",
        "    SELECT schedule, employment, Count(*) AS cnt\n",
        "    FROM vacancies\n",
        "    GROUP BY schedule, employment\n",
        "    ORDER BY cnt DESC\n",
        "    OFFSET 1 LIMIT 1\n",
        "''', title_of_result='Результат для задания 4.4:');\n",
        "\n",
        "print() # разделение вывода\n",
        "\n",
        "# Запрос для анализа/выводов\n",
        "load_and_show_data('''\n",
        "    SELECT schedule, employment, Count(*) AS cnt\n",
        "    FROM vacancies\n",
        "    GROUP BY schedule, employment\n",
        "    ORDER BY cnt DESC\n",
        "''', title_of_result='Результат для выводов Юнита 4:');"
      ]
    },
    {
      "cell_type": "markdown",
      "id": "0136ffee-0ead-4a6b-b608-61d1c753a438",
      "metadata": {
        "id": "0136ffee-0ead-4a6b-b608-61d1c753a438"
      },
      "source": [
        "5. Напишите запрос, выводящий значения поля Требуемый опыт работы (experience) в порядке возрастания количества вакансий, в которых указан данный вариант опыта. "
      ]
    },
    {
      "cell_type": "code",
      "execution_count": 81,
      "id": "5b3a8e79-f7ab-4008-b767-12aea3a205ea",
      "metadata": {
        "id": "5b3a8e79-f7ab-4008-b767-12aea3a205ea"
      },
      "outputs": [
        {
          "name": "stdout",
          "output_type": "stream",
          "text": [
            "Результат запроса:\n",
            "        experience   cnt\n",
            "       Более 6 лет  1337\n",
            "         Нет опыта  7197\n",
            "     От 3 до 6 лет 14511\n",
            "От 1 года до 3 лет 26152\n"
          ]
        }
      ],
      "source": [
        "load_and_show_data(f'''\n",
        "    SELECT experience, Count(*) AS cnt\n",
        "    FROM vacancies\n",
        "    GROUP BY 1\n",
        "    ORDER BY 2\n",
        "''');"
      ]
    },
    {
      "cell_type": "markdown",
      "id": "oq2b7n1QpIka",
      "metadata": {
        "id": "oq2b7n1QpIka"
      },
      "source": [
        "***"
      ]
    },
    {
      "attachments": {},
      "cell_type": "markdown",
      "id": "e91f87ed-e25c-4f96-9f92-b642e8c0b4fa",
      "metadata": {
        "id": "e91f87ed-e25c-4f96-9f92-b642e8c0b4fa"
      },
      "source": [
        "### Выводы по детальному анализу вакансий (Юнит 4)\n",
        "1) Чем крупнее населенный пункт (площадь, население), тем больше вакансий предлагается в нем.\n",
        "2) Почти у половины (24073) вакансий не указана одна из границ ЗП, возможно данные вакансии имеют определенуюставку(фиксированная ЗП, бюджет?).\n",
        "3) Средне-максимальная ЗП выше средне-минимальной в полтора раза (110537.0 / 71065.0).\n",
        "4) По распорядку и типу занятости явный лидер: \"Полный день/Полная занятость\", хотя на 'пятки уже наступает' \"Удаленная работа\" (пока в ~4.5 раза меньше). К сожалению в БД не фигурирует дата, очень бы хотелось увидеть зависимость(и рост/спад) между \"удаленностью\" и, возможно, ковидными огранчениями.\n",
        "5) Среди кандидатов работодатель выбирает \"золотую середину\" - средне-минимальный опыт: от кандидата будет средний результат при возможно средней ЗП(?). Наверное имеет смысл посмотреть \"Опыт\" в разрезе \"ЗП\""
      ]
    },
    {
      "cell_type": "markdown",
      "id": "7ea20ab6-04a7-40a0-adec-443a0e5a42c3",
      "metadata": {
        "id": "7ea20ab6-04a7-40a0-adec-443a0e5a42c3"
      },
      "source": [
        "# Юнит 5. Анализ работодателей"
      ]
    },
    {
      "cell_type": "markdown",
      "id": "968aed80-74ef-4ffb-b5bf-c65b84e9caea",
      "metadata": {
        "id": "968aed80-74ef-4ffb-b5bf-c65b84e9caea"
      },
      "source": [
        "1. Напишите запрос, который позволит узнать, какие работодатели находятся на первом и пятом месте по количеству вакансий."
      ]
    },
    {
      "cell_type": "code",
      "execution_count": 100,
      "id": "f2d62796-d400-4ec1-a675-88112739a50e",
      "metadata": {
        "id": "f2d62796-d400-4ec1-a675-88112739a50e"
      },
      "outputs": [
        {
          "name": "stdout",
          "output_type": "stream",
          "text": [
            "Результат \"быстрого ответа\" на задание 5.1:\n",
            " company_name  company_vacancies\n",
            "       Яндекс               1933\n",
            "Газпром нефть                331\n",
            "\n",
            "Результат для выводов Юнита 5:\n",
            "            company_name  company_vacancies\n",
            "                  Яндекс               1933\n",
            "              Ростелеком                491\n",
            "                Тинькофф                444\n",
            "                    СБЕР                428\n",
            "           Газпром нефть                331\n",
            "             ИК СИБИНТЕК                327\n",
            "                     МТС                292\n",
            "                 DataArt                247\n",
            "   Совкомбанк Технологии                204\n",
            "              Первый Бит                176\n",
            "                     IBS                175\n",
            "                    Ozon                175\n",
            "                  Тензор                155\n",
            "                Andersen                155\n",
            "              Спецремонт                151\n",
            "                      VK                150\n",
            "  Поляков Денис Иванович                127\n",
            "Иннотех, Группа компаний                122\n",
            "         Bell Integrator                121\n",
            "                   ANCOR                118\n",
            "                   ЛАНИТ                117\n",
            "  МАГНИТ, Розничная сеть                114\n",
            " Лига Цифровой Экономики                110\n",
            "                Softline                108\n",
            "                 МегаФон                104\n"
          ]
        }
      ],
      "source": [
        "# Запрос для быстрого ответа на задание\n",
        "load_and_show_data(f'''\n",
        "(\n",
        "    SELECT e.name company_name, Count(v.id) company_vacancies\n",
        "    FROM employers e\n",
        "    JOIN vacancies v ON e.id = v.employer_id\n",
        "    GROUP BY company_name\n",
        "    ORDER BY company_vacancies DESC\n",
        "    LIMIT 1\n",
        ")\n",
        "UNION\n",
        "(\n",
        "    SELECT e.name, Count(v.id)\n",
        "    FROM employers e\n",
        "    JOIN vacancies v ON e.id = v.employer_id\n",
        "    GROUP BY 1\n",
        "    ORDER BY 2 DESC\n",
        "    OFFSET 4\n",
        "    LIMIT 1\n",
        ")\n",
        "ORDER BY company_vacancies DESC\n",
        "''', title_of_result='Результат \"быстрого ответа\" на задание 5.1:');\n",
        "\n",
        "print() # разделитель\n",
        "\n",
        "# Запрос для анализа\n",
        "load_and_show_data(f'''\n",
        "(\n",
        "    SELECT e.name company_name, Count(v.id) company_vacancies\n",
        "    FROM employers e\n",
        "    JOIN vacancies v ON e.id = v.employer_id\n",
        "    GROUP BY company_name\n",
        "    HAVING Count(v.id) > 100\n",
        "    ORDER BY company_vacancies DESC\n",
        ")\n",
        "''', title_of_result='Результат для выводов Юнита 5:');"
      ]
    },
    {
      "cell_type": "markdown",
      "id": "68377cfc-b378-43dc-ab7d-1195abf2c515",
      "metadata": {
        "id": "68377cfc-b378-43dc-ab7d-1195abf2c515"
      },
      "source": [
        "2. Напишите запрос, который для каждого региона выведет количество работодателей и вакансий в нём.\n",
        "Среди регионов, в которых нет вакансий, найдите тот, в котором наибольшее количество работодателей.\n"
      ]
    },
    {
      "cell_type": "code",
      "execution_count": 83,
      "id": "dd7df27a-e3e8-412e-a21a-5d389b71e891",
      "metadata": {
        "id": "dd7df27a-e3e8-412e-a21a-5d389b71e891"
      },
      "outputs": [
        {
          "name": "stdout",
          "output_type": "stream",
          "text": [
            "Результат запроса:\n",
            "  name  employers_cnt  vacancies_cnt\n",
            "Россия            410              0\n"
          ]
        }
      ],
      "source": [
        "load_and_show_data(f'''\n",
        "    SELECT a.name, Count(e.id) AS employers_cnt, Count(v.id) AS vacancies_cnt\n",
        "    FROM areas a \n",
        "    JOIN employers e ON a.id = e.area\n",
        "    LEFT JOIN vacancies v ON a.id = v.area_id\n",
        "    GROUP BY 1\n",
        "    ORDER BY 3, 2 DESC\n",
        "    LIMIT 1\n",
        "''');"
      ]
    },
    {
      "cell_type": "markdown",
      "id": "f2fe0acb-ab1a-4e15-9326-2560e22d73c1",
      "metadata": {
        "id": "f2fe0acb-ab1a-4e15-9326-2560e22d73c1"
      },
      "source": [
        "3. Для каждого работодателя посчитайте количество регионов, в которых он публикует свои вакансии. Отсортируйте результат по убыванию количества.\n"
      ]
    },
    {
      "cell_type": "code",
      "execution_count": 119,
      "id": "6271f8ad-bd2e-4196-ae4a-5b39c4c1010e",
      "metadata": {
        "id": "6271f8ad-bd2e-4196-ae4a-5b39c4c1010e"
      },
      "outputs": [
        {
          "name": "stdout",
          "output_type": "stream",
          "text": [
            "Результат \"быстрого ответа\" на задание 5.3:\n",
            " max_cnt\n",
            "     181\n",
            "\n",
            "Результат для выводов Юнита 5:\n",
            "                                                                name  max_cnt\n",
            "                                                              Яндекс      181\n",
            "                                                          Ростелеком      152\n",
            "                                                          Спецремонт      116\n",
            "                                              Поляков Денис Иванович       88\n",
            "                                                           ООО ЕФИН        71\n",
            "                                                          Совкомбанк       63\n",
            "                                                                 МТС       55\n",
            "                                          ЭФКО, Управляющая компания       49\n",
            "                                                        Почта России       48\n",
            "                                                                КРОН       48\n",
            "                                                               MCORE       46\n",
            "                                                         ИК СИБИНТЕК       46\n",
            "                                                     Сбербанк-Сервис       45\n",
            "                                                               ANCOR       44\n",
            "                                                            Тинькофф       43\n",
            "                                                          Первый Бит       43\n",
            "                                                               АЛНАС       41\n",
            "                                                                 IBS       36\n",
            "                                                                Ozon       36\n",
            "                                                               Авито       35\n",
            "                                                       Т1 Интеграция       34\n",
            "                                                          АТМ АЛЬЯНС       34\n",
            "                                                          ЭР-Телеком       33\n",
            "                                                               ЛАНИТ       29\n",
            "                                                            1C-Рарус       28\n",
            "                                     Красное & Белое, розничная сеть       27\n",
            "                                                          Volna.tech       27\n",
            "                                               Совкомбанк Технологии       26\n",
            "                                                     Bell Integrator       26\n",
            "                                              МАГНИТ, Розничная сеть       25\n",
            "                Филиал ФКУ Налог-Сервис ФНС России по ЦОД в г.Москве       25\n",
            "                                                              Тензор       25\n",
            "                                                             Playrix       25\n",
            "                                                         Спортмастер       25\n",
            "                                                            Softline       25\n",
            "                                                                Нэти       24\n",
            "                                                       Газпром нефть       24\n",
            "                                                                СБЕР       24\n",
            "                                                      Банк ВТБ (ПАО)       24\n",
            "                                               Sumitec International       23\n",
            "                       Сеть магазинов цифровой и бытовой техники DNS       23\n",
            "                                                    Консалтинг Групп       23\n",
            "                                                      «Аксиома-Софт»       23\n",
            "                                                             МегаФон       23\n",
            "                                                      Диалог Регионы       23\n",
            "              Российская телевизионная и радиовещательная сеть, ФГУП       22\n",
            "                                                      Россельхозбанк       22\n",
            "                                                          Северсталь       21\n",
            "                                                            Homework       21\n",
            "                                                            ITooLabs       21\n",
            "                                                          Калашников       21\n",
            "                                                           Норникель       20\n",
            "                                              СИБУР, Группа компаний       20\n",
            "                                                            Гринатом       20\n",
            "                                                     Цифровая Сибирь       19\n",
            "                                            Иннотех, Группа компаний       19\n",
            "                               Центральный банк Российской Федерации       19\n",
            "                                                  Pride Games Studio       19\n",
            "                                                          СимбирСофт       19\n",
            "                     БФТ-Холдинг (Бюджетные и Финансовые Технологии)       19\n",
            "                                                           ALP GROUP       19\n",
            "                                                           Petshopru       18\n",
            "                  КБ Уральский банк реконструкции и развития (УБРиР)       18\n",
            "                                                                 ДКС       18\n",
            "                                                      ЦИФРОВОЙ ВЫБОР       18\n",
            "                                                       КРАСЛЕСИНВЕСТ       18\n",
            "                                                              Ingate       17\n",
            "                                                                  VK       17\n",
            "                                                               Goodt       17\n",
            "                                                           Мегаполис       17\n",
            "                                      РУСАЛ, Центр подбора персонала       17\n",
            "                                                              билайн       17\n",
            "                                                                2ГИС       17\n",
            "                                                        Леруа Мерлен       16\n",
            "                                                             JCat.ru       16\n",
            "                                         Центр финансовых технологий       16\n",
            "                                                             Боравто       16\n",
            "                                                                Кама       16\n",
            "                                                          Mintrocket       16\n",
            "                                                     Сеть Партнерств       16\n",
            "                                                    Алабуга, ОЭЗ ППТ       16\n",
            "                                                              Контур       16\n",
            "                                                   Спарго Технологии       16\n",
            "                                                СофтЭксперт, г. Тула       16\n",
            "                                                         Центр СодБи       16\n",
            "                                   ОКЕЙ – Федеральная розничная сеть       15\n",
            "                                                            Andersen       15\n",
            "                                                   UCMS Group Russia       15\n",
            "                                                               ЕВРАЗ       15\n",
            "                                   Лента, федеральная розничная сеть       15\n",
            "                                             Лига Цифровой Экономики       15\n",
            "                              Объединенная металлургическая компания       15\n",
            "                                                         Ресурс, ГАП       15\n",
            "                                            Центр Высоких Технологий       15\n",
            "                                               ХОСТ, Группа компаний       14\n",
            "                                              ЭкоНиваТехника-Холдинг       14\n",
            "                                                               АСКОН       14\n",
            "                           Уральская горно-металлургическая компания       14\n",
            "                                                       Ржд-Техсервис       14\n",
            "                                                             ЭЙТИДЖИ       14\n",
            "                                                      EvenBet Gaming       13\n",
            "                                       Сиренц Глобал Мерчантс Восток       13\n",
            "                                                               Новео       13\n",
            "                                                        ICL Services       13\n",
            "                                                                 ФТО       13\n",
            "                                                              Уфанет       13\n",
            "                                                             РМ АГРО       13\n",
            "                                                                ELMA       13\n",
            "                                   Трубная Металлургическая Компания       13\n",
            "                             ГКУ МО Центр Агропромышленного Развития       13\n",
            "                                                             Мой Дом       13\n",
            "                                                            SberTech       13\n",
            "                                            Ростелеком Контакт-центр       13\n",
            "                                                        SearchInform       13\n",
            "                                                             Бастион       13\n",
            "                                                                 SPL       13\n",
            "                                                             Связной       13\n",
            "                                                Лаборатория Гемотест       13\n",
            "                                                             Смартер       13\n",
            "                                                 Мидлэнд Ритейл Груп       12\n",
            "Институт управления Правительства Ямало-Ненецкого автономного округа       12\n",
            "                                                        ИКСПЛАНЕТ.РУ       12\n",
            "                                                       ЭТМ, компания       12\n",
            "                                                         Группа НЛМК       12\n",
            "                                                             РОСБАНК       12\n",
            "                                            Бристоль, сеть магазинов       12\n",
            "                                                           БАРС Груп       12\n",
            "                                     Атос АйТи Солюшенс энд Сервисез       12\n",
            "                                                          Сервионика       12\n",
            "                                                           АК АЛРОСА       12\n",
            "                                                               Ситек       12\n",
            "                                         Азиатско-Тихоокеанский Банк       12\n",
            "                                                        Spice Agency       12\n",
            "                                                         Southbridge       12\n",
            "                                                            Тамерлан       12\n",
            "                                                         Playgendary       12\n",
            "                                                  METRO Cash & Carry       12\n",
            "                                    ТрансМашХолдинг, Группа компаний       12\n",
            "                                                           ISPsystem       12\n",
            "                                                       AKRON HOLDING       12\n",
            "                                                                Hoff       12\n",
            "                                                        Белое Облако       11\n",
            "                                       Черкизово, Группа предприятий       11\n",
            "                                    Диалог Информационные Технологии       11\n",
            "                                                              Диплей       11\n",
            "                                                         Новосталь-М       11\n",
            "                                                    РосПром Персонал       11\n",
            "                                                             УК ЭЛСИ       11\n",
            "                                                               Aston       11\n",
            "                                                      Промэкспертиза       11\n",
            "                                                       Новая столица       11\n",
            "                                                       Промсвязьбанк       11\n",
            "                                             Группа Компаний РУСАГРО       11\n",
            "                                             Группа компаний Система       11\n",
            "                                                        К-ТЕХНОЛОГИИ       11\n",
            "                                                    Ай-Теко (I-Teco)       11\n",
            "                    Системный оператор Единой энергетической системы       11\n",
            "                                                          КонсалтПро       11\n",
            "                                                               Астор       11\n",
            "                                                     HEADS and HANDS       11\n",
            "                                                               Tele2       11\n",
            "                                                       Банк Открытие       11\n",
            "                                                            ГЭНДАЛЬФ       11\n",
            "                                                          Employcity       11\n",
            "                                Ростелеком Информационные Технологии       11\n",
            "                                        Сыктывкарский фанерный завод       11\n"
          ]
        }
      ],
      "source": [
        "load_and_show_data(f'''\n",
        "    SELECT Count(DISTINCT area_id) AS max_cnt\n",
        "    FROM vacancies\n",
        "    GROUP BY employer_id\n",
        "    ORDER BY 1 DESC\n",
        "    LIMIT 1\n",
        "''', title_of_result='Результат \"быстрого ответа\" на задание 5.3:');\n",
        "\n",
        "print()\n",
        "\n",
        "load_and_show_data(f'''\n",
        "    SELECT e.name, Count(DISTINCT area_id) AS max_cnt\n",
        "    FROM vacancies v\n",
        "    JOIN employers e ON v.employer_id = e.id\n",
        "    GROUP BY e.name\n",
        "    HAVING Count(DISTINCT area_id) > 10\n",
        "    ORDER BY max_cnt DESC\n",
        "''', title_of_result='Результат для выводов Юнита 5:');"
      ]
    },
    {
      "cell_type": "markdown",
      "id": "eab2206d-d95b-468b-8e5f-34381abf0ce7",
      "metadata": {
        "id": "eab2206d-d95b-468b-8e5f-34381abf0ce7"
      },
      "source": [
        "4. Напишите запрос для подсчёта количества работодателей, у которых не указана сфера деятельности. "
      ]
    },
    {
      "cell_type": "code",
      "execution_count": 120,
      "id": "80defb23-bfb1-4a18-8be6-bf36aa7165d5",
      "metadata": {
        "id": "80defb23-bfb1-4a18-8be6-bf36aa7165d5"
      },
      "outputs": [
        {
          "name": "stdout",
          "output_type": "stream",
          "text": [
            "Результат запроса:\n",
            " employers_without_industries\n",
            "                         8419\n"
          ]
        }
      ],
      "source": [
        "load_and_show_data(f'''\n",
        "    SELECT Count(*) AS employers_without_industries\n",
        "    FROM employers e\n",
        "    LEFT JOIN employers_industries ei ON e.id = ei.employer_id\n",
        "    WHERE ei.employer_id IS NULL\n",
        "''');"
      ]
    },
    {
      "cell_type": "markdown",
      "id": "0112af31-f6b0-4e3b-82ab-71296e752e5e",
      "metadata": {
        "id": "0112af31-f6b0-4e3b-82ab-71296e752e5e"
      },
      "source": [
        "5. Напишите запрос, чтобы узнать название компании, находящейся на третьем месте в алфавитном списке (по названию) компаний, у которых указано четыре сферы деятельности. "
      ]
    },
    {
      "cell_type": "code",
      "execution_count": 124,
      "id": "973b0cfc-a972-470a-8b4a-68744ef220c4",
      "metadata": {
        "id": "973b0cfc-a972-470a-8b4a-68744ef220c4"
      },
      "outputs": [
        {
          "name": "stdout",
          "output_type": "stream",
          "text": [
            "Результат \"быстрого ответа\" на задание 5.5: название компании, находящейся на третьем месте в алфавитном списке (по названию) компаний, у которых указано четыре сферы деятельности\n",
            "name\n",
            "2ГИС\n",
            "\n",
            "Результат для выводов Юнита 5: Количство сфер деятельности у компании\n",
            "            name  industry_cnt\n",
            "          Модуль            16\n",
            "           Прайд            10\n",
            "         Энергия            10\n",
            "           Альфа             9\n",
            "             СБК             9\n",
            "          АТЛАНТ             8\n",
            "       ТехноПром             8\n",
            "        Прогресс             8\n",
            "          Фрегат             8\n",
            "Бизнес-Ассистанс             8\n",
            "         Mercury             7\n",
            "       Аквамарин             7\n",
            "         Альтаир             7\n",
            "           Гамма             7\n",
            "      Инициатива             7\n",
            "       Континент             7\n",
            "          Махаон             7\n",
            "Новые технологии             7\n",
            "     Продвижение             7\n",
            "     Сити Сервис             7\n",
            "           Сфера             7\n",
            "        Управдом             7\n",
            "           ЭЛАРА             7\n",
            " Простые решения             6\n",
            "          Азимут             6\n",
            "      Автомастер             6\n",
            "         Скайнет             6\n",
            "         ЭНЕРГИЯ             6\n",
            "           Тесла             6\n",
            "          Долина             6\n",
            "            Ника             6\n",
            "        Агротрак             6\n",
            "        Брусника             6\n",
            "     АйТи-Сервис             6\n",
            "       Автолидер             6\n"
          ]
        }
      ],
      "source": [
        "load_and_show_data(f'''\n",
        "    SELECT e.name\n",
        "    FROM employers e\n",
        "    JOIN employers_industries ei ON e.id = ei.employer_id\n",
        "    GROUP BY e.name\n",
        "    HAVING Count(distinct ei.industry_id) = 4\n",
        "    ORDER BY e.name\n",
        "    OFFSET 2\n",
        "    LIMIT 1\n",
        "''', title_of_result='Результат \"быстрого ответа\" на задание 5.5:');\n",
        "\n",
        "print()\n",
        "\n",
        "load_and_show_data(f'''\n",
        "    SELECT e.name, Count(DISTINCT ei.industry_id) AS industry_cnt\n",
        "    FROM employers e\n",
        "    JOIN employers_industries ei ON e.id = ei.employer_id\n",
        "    GROUP BY e.name\n",
        "    HAVING Count(distinct ei.industry_id) > 5\n",
        "    ORDER BY industry_cnt DESC\n",
        "''', title_of_result='Результат для выводов Юнита 5: Количство сфер деятельности у компании');"
      ]
    },
    {
      "cell_type": "markdown",
      "id": "3bfcfdaf-755d-4d2b-8ed8-326201dc07ab",
      "metadata": {
        "id": "3bfcfdaf-755d-4d2b-8ed8-326201dc07ab"
      },
      "source": [
        "6. С помощью запроса выясните, у какого количества работодателей в качестве сферы деятельности указана Разработка программного обеспечения.\n"
      ]
    },
    {
      "cell_type": "code",
      "execution_count": 111,
      "id": "ad3f270f-2991-47eb-929b-e8f88a55b0d1",
      "metadata": {
        "id": "ad3f270f-2991-47eb-929b-e8f88a55b0d1"
      },
      "outputs": [
        {
          "name": "stdout",
          "output_type": "stream",
          "text": [
            "Результат запроса:\n",
            " emp_dev_po\n",
            "       3553\n"
          ]
        }
      ],
      "source": [
        "load_and_show_data(f'''\n",
        "    SELECT Count(DISTINCT ei.employer_id) AS emp_dev_po\n",
        "    FROM employers_industries ei\n",
        "    JOIN industries i ON ei.industry_id = i.id\n",
        "    WHERE i.name = 'Разработка программного обеспечения'\n",
        "''');"
      ]
    },
    {
      "cell_type": "markdown",
      "id": "7b02bb86-0546-40fb-94a4-242f050a5c57",
      "metadata": {
        "id": "7b02bb86-0546-40fb-94a4-242f050a5c57"
      },
      "source": [
        "7. Для компании «Яндекс» выведите список регионов-миллионников, в которых представлены вакансии компании, вместе с количеством вакансий в этих регионах. Также добавьте строку Total с общим количеством вакансий компании. Результат отсортируйте по возрастанию количества.\n",
        "\n",
        "Список городов-милионников надо взять [отсюда](https://ru.wikipedia.org/wiki/%D0%93%D0%BE%D1%80%D0%BE%D0%B4%D0%B0-%D0%BC%D0%B8%D0%BB%D0%BB%D0%B8%D0%BE%D0%BD%D0%B5%D1%80%D1%8B_%D0%A0%D0%BE%D1%81%D1%81%D0%B8%D0%B8). \n",
        "\n",
        "Если возникнут трудности с этим задание посмотрите материалы модуля  PYTHON-17. Как получать данные из веб-источников и API. "
      ]
    },
    {
      "cell_type": "code",
      "execution_count": 114,
      "id": "ZdfrL6gIs1Pn",
      "metadata": {
        "id": "ZdfrL6gIs1Pn"
      },
      "outputs": [
        {
          "name": "stdout",
          "output_type": "stream",
          "text": [
            "Из \"википедии\" с помощью библиотек \"requests\" и \"BeautifulSoup\". найдены следующие города-миллионнеры (всего-16):\n",
            "Москва, Санкт-Петербург, Новосибирск, Екатеринбург, Казань, Нижний Новгород, Челябинск, Красноярск, Самара, Уфа, Ростов-на-Дону, Омск, Краснодар, Воронеж, Пермь, Волгоград\n"
          ]
        }
      ],
      "source": [
        "# код для получения списка городов-милионников, выполнен для закрепления навыков программировая на Python\n",
        "\n",
        "# импортируем нужные библиотеки для загрузки данных из \"Сети\" и их(данных) парсинга\n",
        "from bs4 import BeautifulSoup\n",
        "import requests\n",
        "\n",
        "# используя \"постоянную\" ссылка, загружаем данные по консантрой ссылке\n",
        "url = 'https://ru.wikipedia.org/wiki/%D0%93%D0%BE%D1%80%D0%BE%D0%B4%D0%B0-%D0%BC%D0%B8%D0%BB%D0%BB%D0%B8%D0%BE%D0%BD%D0%B5%D1%80%D1%8B_%D0%A0%D0%BE%D1%81%D1%81%D0%B8%D0%B8'\n",
        "text = requests.get(url).text\n",
        "\n",
        "# начинаем \"искать\" нужные данные на HTML-странице\n",
        "# предварительный анализ (исходный код страницы), показал, что список нужных нам городов находится во второй ячейке TD, таблицы, находящейся за родителем \"заголовка\" <SPAN>\n",
        "# Краткий алгоримт следующего кода:\n",
        "# - находим <SPAN> с нужным ID\n",
        "# - переходим к родителя с сразу возвращаем следующего \"брата\"\n",
        "# - проверяем таблица ли это, иначе переходим к следующему \"брату\", и так, пока не найдем таблицу\n",
        "# - возвращаем все записи в найденной таблице\n",
        "# - определяем переменную для результата\n",
        "# - перебираем все записи в таблице\n",
        "# - если, ячеек больше чем одна, то скорее всего это запись с названием города\n",
        "# - забираем название города (в результат), предварительно очистим от \"лишних\" символов\n",
        "# - выводим промежуточный вывод\n",
        "table_with_cities = BeautifulSoup(text, 'html.parser').find('span', id='Список_городов-миллионеров')\n",
        "table_with_cities = table_with_cities.parent.next_sibling\n",
        "\n",
        "while table_with_cities.name != 'table':\n",
        "    table_with_cities = table_with_cities.next_sibling\n",
        "\n",
        "table_with_cities_trs = table_with_cities.find('tbody').find_all('tr')\n",
        "\n",
        "million_cities = []\n",
        "for row in table_with_cities_trs:\n",
        "    tds = row.find_all('td')\n",
        "    if len(tds) > 1:\n",
        "        million_cities.append(tds[1].text.strip().replace('[a]', ''))\n",
        "\n",
        "print('Из \"википедии\" с помощью библиотек \"requests\" и \"BeautifulSoup\". найдены следующие города-миллионнеры (всего-{}):'.format(len(million_cities)))\n",
        "print(*million_cities, sep=', ')"
      ]
    },
    {
      "cell_type": "code",
      "execution_count": 115,
      "id": "5a0e32a4-e68a-4365-8a39-2fe24c542c36",
      "metadata": {
        "id": "5a0e32a4-e68a-4365-8a39-2fe24c542c36"
      },
      "outputs": [
        {
          "name": "stdout",
          "output_type": "stream",
          "text": [
            "Результат запроса:\n",
            "               name  cnt\n",
            "0              Омск   21\n",
            "1         Челябинск   22\n",
            "2        Красноярск   23\n",
            "3         Волгоград   24\n",
            "4            Казань   25\n",
            "5             Пермь   25\n",
            "6    Ростов-на-Дону   25\n",
            "7            Самара   26\n",
            "8               Уфа   26\n",
            "9         Краснодар   30\n",
            "10          Воронеж   32\n",
            "11      Новосибирск   35\n",
            "12  Нижний Новгород   36\n",
            "13     Екатеринбург   39\n",
            "14  Санкт-Петербург   42\n",
            "15           Москва   54\n",
            "16            Total  485\n"
          ]
        }
      ],
      "source": [
        "# предварительно формируем строки для запроса в формате SQL названия города и искомую компанию\n",
        "where_million_cities = \"'\" + \"','\".join(million_cities) + \"'\"\n",
        "where_company_name = \"'Яндекс'\"\n",
        "\n",
        "load_and_show_data(f'''\n",
        "(\n",
        "\tSELECT a.name AS name, Count(*) AS cnt\n",
        "\tFROM areas a\n",
        "\tJOIN vacancies v ON a.id = v.area_id\n",
        "\tJOIN employers e ON e.id = v.employer_id\n",
        "\tWHERE a.name IN ({where_million_cities}) AND e.name = {where_company_name}\n",
        "\tGROUP BY a.name\n",
        ")\n",
        "UNION\n",
        "(\n",
        "\tSELECT 'Total' AS name, Count(*) cnt\n",
        "\tFROM areas a\n",
        "\tJOIN vacancies v ON a.id = v.area_id\n",
        "\tJOIN employers e ON e.id = v.employer_id\n",
        "\tWHERE a.name IN ({where_million_cities}) AND e.name = {where_company_name}\n",
        ")\n",
        "ORDER BY cnt, name\n",
        "''', show_index=True);"
      ]
    },
    {
      "cell_type": "markdown",
      "id": "04966e40-3bc3-4dc8-9ba2-e80580ce3abc",
      "metadata": {
        "id": "04966e40-3bc3-4dc8-9ba2-e80580ce3abc"
      },
      "source": [
        "***"
      ]
    },
    {
      "cell_type": "code",
      "execution_count": 90,
      "id": "aGGyER-yt4SR",
      "metadata": {
        "id": "aGGyER-yt4SR"
      },
      "outputs": [],
      "source": [
        "# выводы по анализу работодателей"
      ]
    },
    {
      "cell_type": "markdown",
      "id": "b1ef156a-efcb-49ce-bb23-90763e7f35b2",
      "metadata": {
        "id": "b1ef156a-efcb-49ce-bb23-90763e7f35b2",
        "tags": []
      },
      "source": [
        "# Юнит 6. Предметный анализ"
      ]
    },
    {
      "cell_type": "markdown",
      "id": "b9cd50a0-992d-4988-8463-2b2b1c4629b4",
      "metadata": {
        "id": "b9cd50a0-992d-4988-8463-2b2b1c4629b4"
      },
      "source": [
        "1. Сколько вакансий имеет отношение к данным?\n",
        "\n",
        "Считаем, что вакансия имеет отношение к данным, если в её названии содержатся слова 'data' или 'данн'.\n",
        "\n",
        "*Подсказка: Обратите внимание, что названия вакансий могут быть написаны в любом регистре.* \n"
      ]
    },
    {
      "cell_type": "code",
      "execution_count": 91,
      "id": "54ab0e50-c0f1-47cc-a54b-bc5c8bc363f9",
      "metadata": {
        "id": "54ab0e50-c0f1-47cc-a54b-bc5c8bc363f9"
      },
      "outputs": [
        {
          "name": "stdout",
          "output_type": "stream",
          "text": [
            "Результат запроса:\n",
            " ds_count\n",
            "     1771\n"
          ]
        }
      ],
      "source": [
        "load_and_show_data(f'''\n",
        "    SELECT Count(*) AS ds_count\n",
        "    FROM vacancies\n",
        "    WHERE Lower(name) LIKE '%data%' OR Lower(name) LIKE '%данн%'\n",
        "''');"
      ]
    },
    {
      "cell_type": "markdown",
      "id": "4dea20cb-a36b-474a-a0b9-e08e8e3857a5",
      "metadata": {
        "id": "4dea20cb-a36b-474a-a0b9-e08e8e3857a5"
      },
      "source": [
        "2. Сколько есть подходящих вакансий для начинающего дата-сайентиста? \n",
        "Будем считать вакансиями для дата-сайентистов такие, в названии которых есть хотя бы одно из следующих сочетаний:\n",
        "* 'data scientist'\n",
        "* 'data science'\n",
        "* 'исследователь данных'\n",
        "* 'ML' (здесь не нужно брать вакансии по HTML)\n",
        "* 'machine learning'\n",
        "* 'машинн%обучен%'\n",
        "\n",
        "** В следующих заданиях мы продолжим работать с вакансиями по этому условию.*\n",
        "\n",
        "Считаем вакансиями для специалистов уровня Junior следующие:\n",
        "* в названии есть слово 'junior' *или*\n",
        "* требуемый опыт — Нет опыта *или*\n",
        "* тип трудоустройства — Стажировка.\n",
        " "
      ]
    },
    {
      "cell_type": "code",
      "execution_count": 92,
      "id": "9c61b3c0-bb66-46c9-ae1e-81d3f5752b4a",
      "metadata": {
        "id": "9c61b3c0-bb66-46c9-ae1e-81d3f5752b4a"
      },
      "outputs": [
        {
          "name": "stdout",
          "output_type": "stream",
          "text": [
            "Результат запроса:\n",
            " junior_cnt\n",
            "         51\n"
          ]
        }
      ],
      "source": [
        "load_and_show_data(f'''\n",
        "    SELECT Count(*) AS junior_cnt\n",
        "    FROM vacancies\n",
        "    WHERE (\n",
        "        Lower(name) LIKE '%data scientist%' OR\n",
        "        Lower(name) LIKE '%data science%'   OR\n",
        "        Lower(name) LIKE '%исследователь данных%' OR\n",
        "        Lower(name) LIKE '%machine learning%' OR\n",
        "        Lower(name) LIKE '%машинн%обучен%%' OR (\n",
        "            name LIKE '%ML%' AND\n",
        "            name NOT LIKE '%HTML%'\n",
        "        )\n",
        "    ) AND (\n",
        "        Lower(name) LIKE '%junior%' OR\n",
        "        experience = 'Нет опыта' OR\n",
        "        employment = 'Стажировка'\n",
        "    )\n",
        "''');"
      ]
    },
    {
      "cell_type": "markdown",
      "id": "eedceb80-c5ca-480e-b27a-278dfb8b4438",
      "metadata": {
        "id": "eedceb80-c5ca-480e-b27a-278dfb8b4438"
      },
      "source": [
        "3. Сколько есть вакансий для DS, в которых в качестве ключевого навыка указан SQL или postgres?\n",
        "\n",
        "** Критерии для отнесения вакансии к DS указаны в предыдущем задании.*"
      ]
    },
    {
      "cell_type": "code",
      "execution_count": 93,
      "id": "69621713-0cc5-4f1b-a1d7-bb144fa6148c",
      "metadata": {
        "id": "69621713-0cc5-4f1b-a1d7-bb144fa6148c"
      },
      "outputs": [
        {
          "name": "stdout",
          "output_type": "stream",
          "text": [
            "Результат запроса:\n",
            " ds_and_db_cnt\n",
            "           201\n"
          ]
        }
      ],
      "source": [
        "load_and_show_data(f'''\n",
        "    SELECT Count(*) AS ds_and_db_cnt\n",
        "    FROM vacancies\n",
        "    WHERE (\n",
        "        Lower(name) LIKE '%data scientist%' OR\n",
        "        Lower(name) LIKE '%data science%'   OR\n",
        "        Lower(name) LIKE '%исследователь данных%' OR\n",
        "        Lower(name) LIKE '%machine learning%' OR\n",
        "        Lower(name) LIKE '%машинн%обучен%%' OR (\n",
        "            name LIKE '%ML%' AND\n",
        "            name NOT LIKE '%HTML%'\n",
        "        )\n",
        "    ) AND (\n",
        "        Upper(key_skills) LIKE '%SQL%' OR\n",
        "        Lower(key_skills) LIKE '%postgres%'\n",
        "    )\n",
        "''');"
      ]
    },
    {
      "cell_type": "markdown",
      "id": "1be1e9c6-37cf-4a5f-bfeb-04cab799dc80",
      "metadata": {
        "id": "1be1e9c6-37cf-4a5f-bfeb-04cab799dc80"
      },
      "source": [
        "4. Проверьте, насколько популярен Python в требованиях работодателей к DS.Для этого вычислите количество вакансий, в которых в качестве ключевого навыка указан Python.\n",
        "\n",
        "** Это можно сделать помощью запроса, аналогичного предыдущему.*"
      ]
    },
    {
      "cell_type": "code",
      "execution_count": 94,
      "id": "0036a355-9ccf-4564-8b01-73d8194297e7",
      "metadata": {
        "id": "0036a355-9ccf-4564-8b01-73d8194297e7"
      },
      "outputs": [
        {
          "name": "stdout",
          "output_type": "stream",
          "text": [
            "Результат запроса:\n",
            " ds_and_python_cnt\n",
            "               351\n"
          ]
        }
      ],
      "source": [
        "load_and_show_data(f'''\n",
        "    SELECT count(*) ds_and_python_cnt\n",
        "    FROM vacancies\n",
        "    WHERE (\n",
        "        Lower(name) LIKE '%data scientist%' OR\n",
        "        Lower(name) LIKE '%data science%'   OR\n",
        "        Lower(name) LIKE '%исследователь данных%' OR\n",
        "        Lower(name) LIKE '%machine learning%' OR\n",
        "        Lower(name) LIKE '%машинн%обучен%%' OR (\n",
        "            name LIKE '%ML%' AND\n",
        "            name NOT LIKE '%HTML%'\n",
        "        )\n",
        "    ) AND \n",
        "        Lower(key_skills) LIKE '%python%'\n",
        "''');"
      ]
    },
    {
      "cell_type": "markdown",
      "id": "ec3c8db7-fa21-4a41-a994-1af63742a642",
      "metadata": {
        "id": "ec3c8db7-fa21-4a41-a994-1af63742a642"
      },
      "source": [
        "5. Сколько ключевых навыков в среднем указывают в вакансиях для DS?\n",
        "Ответ округлите до двух знаков после точки-разделителя."
      ]
    },
    {
      "cell_type": "code",
      "execution_count": 95,
      "id": "949132bc-d5b6-4611-8218-0b9a504d74f4",
      "metadata": {
        "id": "949132bc-d5b6-4611-8218-0b9a504d74f4"
      },
      "outputs": [
        {
          "name": "stdout",
          "output_type": "stream",
          "text": [
            "Результат запроса:\n",
            " ds_key_skills_cnt\n",
            "              6.41\n"
          ]
        }
      ],
      "source": [
        "load_and_show_data(f'''\n",
        "    SELECT Round(\n",
        "                Avg(\n",
        "                    1 + length(key_skills) - length(replace(key_skills, chr(9), ''))  \n",
        "                )\n",
        "            , 2) AS ds_key_skills_cnt\n",
        "    FROM vacancies\n",
        "    WHERE \n",
        "        key_skills IS NOT NULL AND\n",
        "        (\n",
        "            Lower(name) LIKE '%data scientist%' OR\n",
        "            Lower(name) LIKE '%data science%'   OR\n",
        "            Lower(name) LIKE '%исследователь данных%' OR\n",
        "            Lower(name) LIKE '%machine learning%' OR\n",
        "            Lower(name) LIKE '%машинн%обучен%%' OR (\n",
        "                name LIKE '%ML%' AND\n",
        "                name NOT LIKE '%HTML%'\n",
        "            )\n",
        "        )\n",
        "''');"
      ]
    },
    {
      "cell_type": "markdown",
      "id": "1041c17a-ca8f-4543-a0ca-32778914fb00",
      "metadata": {
        "id": "1041c17a-ca8f-4543-a0ca-32778914fb00"
      },
      "source": [
        "6. Напишите запрос, позволяющий вычислить, какую зарплату для DS в **среднем** указывают для каждого типа требуемого опыта (уникальное значение из поля *experience*). \n",
        "\n",
        "При решении задачи примите во внимание следующее:\n",
        "1. Рассматриваем только вакансии, у которых заполнено хотя бы одно из двух полей с зарплатой.\n",
        "2. Если заполнены оба поля с зарплатой, то считаем зарплату по каждой вакансии как сумму двух полей, делённую на 2. Если заполнено только одно из полей, то его и считаем зарплатой по вакансии.\n",
        "3. Если в расчётах участвует null, в результате он тоже даст null (посмотрите, что возвращает запрос select 1 + null). Чтобы избежать этой ситуацию, мы воспользуемся функцией [coalesce](https://postgrespro.ru/docs/postgresql/9.5/functions-conditional#functions-coalesce-nvl-ifnull), которая заменит null на значение, которое мы передадим. Например, посмотрите, что возвращает запрос `select 1 + coalesce(null, 0)`\n",
        "\n",
        "Выясните, на какую зарплату в среднем может рассчитывать дата-сайентист с опытом работы от 3 до 6 лет. Результат округлите до целого числа. "
      ]
    },
    {
      "cell_type": "code",
      "execution_count": 96,
      "id": "6a743d39-5204-48d3-8271-b9f88e68d40e",
      "metadata": {
        "id": "6a743d39-5204-48d3-8271-b9f88e68d40e"
      },
      "outputs": [
        {
          "name": "stdout",
          "output_type": "stream",
          "text": [
            "Результат запроса:\n",
            " ds_avg_salary\n",
            "      243115.0\n"
          ]
        }
      ],
      "source": [
        "load_and_show_data(f'''\n",
        "    SELECT  Round(\n",
        "                Avg(\n",
        "                    (Coalesce(salary_from, salary_to) + Coalesce(salary_to, salary_from)) / 2\n",
        "                )\n",
        "            ) AS ds_avg_salary\n",
        "    FROM vacancies\n",
        "    WHERE  experience = 'От 3 до 6 лет' AND (\n",
        "        salary_to   IS NOT NULL OR\n",
        "        salary_from IS NOT NULL\n",
        "        ) AND\n",
        "        (\n",
        "            Lower(name) LIKE '%data scientist%' OR\n",
        "            Lower(name) LIKE '%data science%'   OR\n",
        "            Lower(name) LIKE '%исследователь данных%' OR\n",
        "            Lower(name) LIKE '%machine learning%' OR\n",
        "            Lower(name) LIKE '%машинн%обучен%%' OR (\n",
        "                name LIKE '%ML%' AND\n",
        "                name NOT LIKE '%HTML%'\n",
        "            )\n",
        "        )\n",
        "''');"
      ]
    },
    {
      "cell_type": "markdown",
      "id": "6a7892b4-4113-4746-adce-18aa2844f18e",
      "metadata": {
        "id": "6a7892b4-4113-4746-adce-18aa2844f18e"
      },
      "source": [
        "***"
      ]
    },
    {
      "cell_type": "code",
      "execution_count": 97,
      "id": "UjLWUptVwY1o",
      "metadata": {
        "id": "UjLWUptVwY1o"
      },
      "outputs": [],
      "source": [
        "# выводы по предметному анализу"
      ]
    },
    {
      "cell_type": "markdown",
      "id": "c0ED6fh7wiBT",
      "metadata": {
        "id": "c0ED6fh7wiBT"
      },
      "source": [
        "# Общий вывод по проекту"
      ]
    },
    {
      "cell_type": "code",
      "execution_count": 98,
      "id": "h9B3BL-wwj18",
      "metadata": {
        "id": "h9B3BL-wwj18"
      },
      "outputs": [],
      "source": [
        "# подведем итог исследования, обобщите выводы\n",
        "# здесь можно (это будет плюсом) провести дополнительные исследования данных, сделать прогнозы, продумать варианты продолжения исследования"
      ]
    }
  ],
  "metadata": {
    "colab": {
      "collapsed_sections": [
        "8d62a9f3-f64e-4fe7-bdac-c4dffa16155e"
      ],
      "provenance": []
    },
    "kernelspec": {
      "display_name": "Python 3",
      "language": "python",
      "name": "python3"
    },
    "language_info": {
      "codemirror_mode": {
        "name": "ipython",
        "version": 3
      },
      "file_extension": ".py",
      "mimetype": "text/x-python",
      "name": "python",
      "nbconvert_exporter": "python",
      "pygments_lexer": "ipython3",
      "version": "3.10.0"
    },
    "vscode": {
      "interpreter": {
        "hash": "369f2c481f4da34e4445cda3fffd2e751bd1c4d706f27375911949ba6bb62e1c"
      }
    }
  },
  "nbformat": 4,
  "nbformat_minor": 5
}
