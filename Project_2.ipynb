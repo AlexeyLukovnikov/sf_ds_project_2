{
  "cells": [
    {
      "cell_type": "markdown",
      "id": "42289889-bd57-434e-9637-d3e354756316",
      "metadata": {
        "id": "42289889-bd57-434e-9637-d3e354756316"
      },
      "source": [
        "<center> <img src = https://raw.githubusercontent.com/AndreyRysistov/DatasetsForPandas/main/hh%20label.jpg alt=\"drawing\" style=\"width:400px;\">"
      ]
    },
    {
      "cell_type": "markdown",
      "id": "829cb75b-f14e-4ba8-9195-7ba929a7d656",
      "metadata": {
        "id": "829cb75b-f14e-4ba8-9195-7ba929a7d656",
        "tags": []
      },
      "source": [
        "# <center> Проект: Анализ вакансий из HeadHunter\n",
        "   "
      ]
    },
    {
      "cell_type": "code",
      "execution_count": 349,
      "id": "bc4cc32c",
      "metadata": {},
      "outputs": [],
      "source": [
        "#Подразумевается, что все необходимые бибилотеки установлены, но при необходимости их можно инсталлировать командой (предварительно убрав с нее комментарий):\n",
        "#!pip install -r requirements.txt"
      ]
    },
    {
      "cell_type": "code",
      "execution_count": 350,
      "id": "dccfde33-2452-43fb-a8a5-5c6ebc02a71d",
      "metadata": {
        "id": "dccfde33-2452-43fb-a8a5-5c6ebc02a71d"
      },
      "outputs": [],
      "source": [
        "# Импорт основных библиотек для работы с БД и данными\n",
        "import psycopg2   \n",
        "import pandas as pd\n",
        "\n",
        "# Для \"красоты\" убираем предупреждения и засекаем вреся работы ВСЕЙ программы\n",
        "import warnings\n",
        "warnings.filterwarnings('ignore')\n",
        "\n",
        "import time\n",
        "start_time = time.time()"
      ]
    },
    {
      "cell_type": "code",
      "execution_count": 351,
      "id": "oVKH4ehvf8Ay",
      "metadata": {
        "id": "oVKH4ehvf8Ay"
      },
      "outputs": [],
      "source": [
        "# вставьте сюда параметры подключения из юнита 1. Работа с базой данных из Python \n",
        "\"\"\"\n",
        "впомогательная функция (выполнена для закрепления навыков программирования на Python) для\n",
        "формирования переменных доступа к БД (сервер,логин,пароль и т.д.), сохраненных в файле 'db_config.txt'\n",
        "\n",
        "пример файл 'db_config.txt' (фактически можно выполнить Copy & Paste из описания к заданию):\n",
        "\n",
        "DBNAME = 'project_sql'\n",
        "USER = 'skillfactory'\n",
        "PASSWORD = 'real_password'\n",
        "HOST = '84.201.134.129'\n",
        "PORT = 5432\n",
        "\n",
        "\"\"\"\n",
        "def load_db_config():\n",
        "    result = dict()\n",
        "    with open('db_config.txt', 'r') as db_config:\n",
        "        lines = db_config.readlines()\n",
        "        for line in lines:\n",
        "            line = line.replace(\"'\", \"\").strip()\n",
        "            key_val = line.split('=')\n",
        "            result[key_val[0].strip()] = key_val[1].strip()\n",
        "    return result['DBNAME'], result['USER'], result['HOST'], result['PASSWORD'], result['PORT']\n",
        "\n",
        "# сохраняем конф. данные соедения к БД в соот. переменные\n",
        "DBNAME, USER, HOST, PASSWORD, PORT = load_db_config()\n",
        "\n",
        "\"\"\"\n",
        "вспомогательная функция, которая:\n",
        "- открывает соединение с БД\n",
        "- с помощью Pandas загружает данные в результирующий DataFrame, \"описанные\" в строке запроса SQL\n",
        "- закрывает соединение с БД\n",
        "- по умолчанию(можно отключить) выводит результирующий DataFrame на экран\n",
        "- возвращает результат в виде DataFrame\n",
        "\"\"\"\n",
        "def load_and_show_data(sql_query, show_result=True, show_index=False, title_of_result='Результат запроса:'):\n",
        "    with psycopg2.connect(\n",
        "        dbname=DBNAME,\n",
        "        user=USER,\n",
        "        host=HOST,\n",
        "        password=PASSWORD,\n",
        "        port=PORT\n",
        "    ) as conn:\n",
        "        result = pd.read_sql_query(sql_query, conn)\n",
        "    conn.close()\n",
        "    if show_result:\n",
        "        print(title_of_result)\n",
        "        print(result.to_string(index=show_index))\n",
        "    return result"
      ]
    },
    {
      "cell_type": "markdown",
      "id": "0dc6476b-7a00-44f1-ac93-6e3baed33a29",
      "metadata": {
        "id": "0dc6476b-7a00-44f1-ac93-6e3baed33a29"
      },
      "source": [
        "# Юнит 3. Предварительный анализ данных"
      ]
    },
    {
      "cell_type": "markdown",
      "id": "889782b6-8d1c-410e-8920-e57f27917c64",
      "metadata": {
        "id": "889782b6-8d1c-410e-8920-e57f27917c64"
      },
      "source": [
        "1. Напишите запрос, который посчитает количество вакансий в нашей базе (вакансии находятся в таблице vacancies). "
      ]
    },
    {
      "cell_type": "code",
      "execution_count": 352,
      "id": "bc39e68e-ed02-4ee2-9235-7258a2f867a8",
      "metadata": {
        "id": "bc39e68e-ed02-4ee2-9235-7258a2f867a8"
      },
      "outputs": [
        {
          "name": "stdout",
          "output_type": "stream",
          "text": [
            "Результат запроса:\n",
            " vacancies_cnt\n",
            "         49197\n"
          ]
        }
      ],
      "source": [
        "# Обобщеный комментарий для запросов SQL Юнита 3\n",
        "# SELECT Count(*) - запрос количества записей\n",
        "# FROM  - выборка из требуемой таблицы\n",
        "\n",
        "result_3_1 = load_and_show_data(f'''\n",
        "   SELECT Count(*) AS vacancies_cnt\n",
        "   FROM vacancies\n",
        "''');"
      ]
    },
    {
      "cell_type": "markdown",
      "id": "b583485d-1f9e-494e-ada4-80ffff7c53d6",
      "metadata": {
        "id": "b583485d-1f9e-494e-ada4-80ffff7c53d6"
      },
      "source": [
        "2. Напишите запрос, который посчитает количество работодателей (таблица employers). "
      ]
    },
    {
      "cell_type": "code",
      "execution_count": 353,
      "id": "5408c52c-3407-4a63-b25b-1aafa2322d28",
      "metadata": {
        "id": "5408c52c-3407-4a63-b25b-1aafa2322d28"
      },
      "outputs": [
        {
          "name": "stdout",
          "output_type": "stream",
          "text": [
            "Результат запроса:\n",
            " employers_cnt\n",
            "         23501\n"
          ]
        }
      ],
      "source": [
        "result_3_2 = load_and_show_data(f'''\n",
        "    SELECT Count(*) AS employers_cnt\n",
        "    FROM employers\n",
        "''');"
      ]
    },
    {
      "cell_type": "markdown",
      "id": "a2bfff1f-c975-4bf6-84be-2185d79dcb76",
      "metadata": {
        "id": "a2bfff1f-c975-4bf6-84be-2185d79dcb76"
      },
      "source": [
        "3. Посчитате с помощью запроса количество регионов (таблица areas)."
      ]
    },
    {
      "cell_type": "code",
      "execution_count": 354,
      "id": "1m8QJwBYhey6",
      "metadata": {
        "id": "1m8QJwBYhey6"
      },
      "outputs": [
        {
          "name": "stdout",
          "output_type": "stream",
          "text": [
            "Результат запроса:\n",
            " areas_cnt\n",
            "      1362\n"
          ]
        }
      ],
      "source": [
        "result_3_3 = load_and_show_data(f'''\n",
        "    SELECT Count(*) AS areas_cnt\n",
        "    FROM areas\n",
        "''');"
      ]
    },
    {
      "cell_type": "markdown",
      "id": "41bb59f3-53cc-4a67-a5bc-bedf573955e4",
      "metadata": {
        "id": "41bb59f3-53cc-4a67-a5bc-bedf573955e4"
      },
      "source": [
        "4. Посчитате с помощью запроса количество сфер деятельности в базе (таблица industries)."
      ]
    },
    {
      "cell_type": "code",
      "execution_count": 355,
      "id": "d286cf4c-707b-4cd2-9190-7ab3587d04a1",
      "metadata": {
        "id": "d286cf4c-707b-4cd2-9190-7ab3587d04a1"
      },
      "outputs": [
        {
          "name": "stdout",
          "output_type": "stream",
          "text": [
            "Результат запроса:\n",
            " industries_cnt\n",
            "            294\n"
          ]
        }
      ],
      "source": [
        "result_3_4 = load_and_show_data(f'''\n",
        "    SELECT Count(*) AS industries_cnt\n",
        "    FROM industries\n",
        "''');"
      ]
    },
    {
      "cell_type": "markdown",
      "id": "9a8a2181-6914-448b-85f1-38f5f18b8a93",
      "metadata": {
        "id": "9a8a2181-6914-448b-85f1-38f5f18b8a93"
      },
      "source": [
        "***"
      ]
    },
    {
      "attachments": {},
      "cell_type": "markdown",
      "id": "be4e9bd3-a4db-4a20-82fb-6b02fc2957e0",
      "metadata": {
        "id": "be4e9bd3-a4db-4a20-82fb-6b02fc2957e0"
      },
      "source": [
        "### Юнит 3: Выводы по предварительному анализу данных\n",
        "\n",
        "**Итого:**\n",
        "- Всего вакансии: 49197 \n",
        "- Всего работодателей: 23501\n",
        "- Всего регионов(населенных пунктов): 1362\n",
        "- Всего сфер деятельности: 294\n",
        "\n",
        "Предварительно, зная только эту информацию и учитывая связи между данными, можно определенно утвреждать, что:\n",
        "- в среднем(минимум один) работодатель  предлагает **2** вакансий (49197 / 23501)\n",
        "- в среднем(минимум в одном) в регионе  предлагается **36** вакансий (49197 / 1362)\n",
        "- в среднем(минимум от одной) от каждой индустрии(сферы деятельности) предлагается **167** вакансий (49197 / 294)\n",
        "\n",
        "- в среднем(минимум в одном) регионе находится **17** работодателей (23501 / 1362)\n",
        "- в среднем(минимум одна) каждая индустрия представлена **79** компанией (работодателем) (23501 / 294)\n",
        "\n",
        "P.S.: в скобках есть оговорка (минимум ...), это означает, что может быть(и он наверняка есть) \"перекос\", т.е. когда, например, одна компания предлагает почти все вакансии, а каждая оставшаяся только по одной"
      ]
    },
    {
      "cell_type": "markdown",
      "id": "8d62a9f3-f64e-4fe7-bdac-c4dffa16155e",
      "metadata": {
        "id": "8d62a9f3-f64e-4fe7-bdac-c4dffa16155e"
      },
      "source": [
        "# Юнит 4. Детальный анализ вакансий"
      ]
    },
    {
      "cell_type": "markdown",
      "id": "93053d3d-b284-481a-9cf7-012d7014c0e0",
      "metadata": {
        "id": "93053d3d-b284-481a-9cf7-012d7014c0e0"
      },
      "source": [
        "1. Напишите запрос, который позволит узнать, сколько (cnt) вакансий в каждом регионе (area).\n",
        "Отсортируйте по количеству вакансий в порядке убывания."
      ]
    },
    {
      "cell_type": "code",
      "execution_count": 356,
      "id": "3f069da6-fdc9-4ae7-b514-fafe2675efd3",
      "metadata": {
        "id": "3f069da6-fdc9-4ae7-b514-fafe2675efd3"
      },
      "outputs": [
        {
          "name": "stdout",
          "output_type": "stream",
          "text": [
            "Топ-5 населенных пунктов по количеству вакансий\n",
            "           area  cnt\n",
            "         Москва 5333\n",
            "Санкт-Петербург 2851\n",
            "          Минск 2112\n",
            "    Новосибирск 2006\n",
            "         Алматы 1892\n"
          ]
        }
      ],
      "source": [
        "# Переменная для хранения ВСЕХ результатов (на всякий случай)\n",
        "results = {}\n",
        "results['4.1'] = load_and_show_data(f'''\n",
        "    SELECT a.name area, Count(*) AS cnt\n",
        "    FROM areas a\n",
        "    JOIN  vacancies v ON a.id = v.area_id\n",
        "    GROUP BY area\n",
        "    ORDER BY cnt DESC\n",
        "    LIMIT 5\n",
        "''', title_of_result='Топ-5 населенных пунктов по количеству вакансий');"
      ]
    },
    {
      "cell_type": "markdown",
      "id": "4266f0b6-1646-492a-88b4-2f6a46502135",
      "metadata": {
        "id": "4266f0b6-1646-492a-88b4-2f6a46502135"
      },
      "source": [
        "2. Напишите запрос, чтобы определить у какого количества вакансий заполнено хотя бы одно из двух полей с зарплатой."
      ]
    },
    {
      "cell_type": "code",
      "execution_count": 357,
      "id": "0c44b350-72eb-4d65-8b54-a1fc449ba9fd",
      "metadata": {
        "id": "0c44b350-72eb-4d65-8b54-a1fc449ba9fd"
      },
      "outputs": [
        {
          "name": "stdout",
          "output_type": "stream",
          "text": [
            "Результат запроса:\n",
            " not_empty_salary_cnt\n",
            "                24073\n"
          ]
        }
      ],
      "source": [
        "results['4.2'] = load_and_show_data(f'''\n",
        "    SELECT Count(*) AS not_empty_salary_cnt\n",
        "    FROM vacancies\n",
        "    WHERE salary_from IS NOT NULL OR\n",
        "          salary_to   IS NOT NULL\n",
        "''');"
      ]
    },
    {
      "cell_type": "markdown",
      "id": "635c4d5d-f323-4c66-b428-50a088120aa0",
      "metadata": {
        "id": "635c4d5d-f323-4c66-b428-50a088120aa0"
      },
      "source": [
        "3. Найдите средние значения для нижней и верхней границы зарплатной вилки. Округлите значения до целого."
      ]
    },
    {
      "cell_type": "code",
      "execution_count": 358,
      "id": "603cdbe4-0ec3-4106-8eaf-c73fcdd29165",
      "metadata": {
        "id": "603cdbe4-0ec3-4106-8eaf-c73fcdd29165"
      },
      "outputs": [
        {
          "name": "stdout",
          "output_type": "stream",
          "text": [
            "Результат запроса:\n",
            " avg_salary_from  avg_salary_to\n",
            "         71065.0       110537.0\n"
          ]
        }
      ],
      "source": [
        "results['4.3'] = load_and_show_data(f'''\n",
        "    SELECT Round(Avg(salary_from)) avg_salary_from,\n",
        "           Round(Avg(salary_to)) avg_salary_to\n",
        "    FROM vacancies\n",
        "''');"
      ]
    },
    {
      "cell_type": "markdown",
      "id": "f3fdaec9-5fd3-4260-9cf5-1d7406b628a5",
      "metadata": {
        "id": "f3fdaec9-5fd3-4260-9cf5-1d7406b628a5"
      },
      "source": [
        "4. Напишите запрос, который выведет количество вакансий для каждого сочетания типа рабочего графика (schedule) и типа трудоустройства (employment), используемого в вакансиях. Результат отсортируйте по убыванию количества.\n"
      ]
    },
    {
      "cell_type": "code",
      "execution_count": 359,
      "id": "1ea710ec-871b-431e-9462-c7d0fd87011b",
      "metadata": {
        "id": "1ea710ec-871b-431e-9462-c7d0fd87011b"
      },
      "outputs": [
        {
          "name": "stdout",
          "output_type": "stream",
          "text": [
            "Результат для задания 4.4:\n",
            "        schedule       employment  cnt\n",
            "Удаленная работа Полная занятость 7802\n",
            "\n",
            "Результат для выводов Юнита 4:\n",
            "        schedule          employment   cnt\n",
            "     Полный день    Полная занятость 35367\n",
            "Удаленная работа    Полная занятость  7802\n",
            "   Гибкий график    Полная занятость  1593\n",
            "Удаленная работа Частичная занятость  1312\n",
            "  Сменный график    Полная занятость   940\n",
            "     Полный день          Стажировка   569\n",
            "  Вахтовый метод    Полная занятость   367\n",
            "     Полный день Частичная занятость   347\n",
            "   Гибкий график Частичная занятость   312\n",
            "     Полный день    Проектная работа   141\n",
            "Удаленная работа    Проектная работа   133\n",
            "   Гибкий график          Стажировка   116\n",
            "  Сменный график Частичная занятость   101\n",
            "Удаленная работа          Стажировка    64\n",
            "   Гибкий график    Проектная работа    18\n",
            "  Сменный график          Стажировка    12\n",
            "  Вахтовый метод    Проектная работа     2\n",
            "  Сменный график    Проектная работа     1\n"
          ]
        }
      ],
      "source": [
        "# Запрос для резельтата задания 4.4\n",
        "load_and_show_data('''\n",
        "    SELECT schedule, employment, Count(*) AS cnt\n",
        "    FROM vacancies\n",
        "    GROUP BY schedule, employment\n",
        "    ORDER BY cnt DESC\n",
        "    OFFSET 1 LIMIT 1\n",
        "''', title_of_result='Результат для задания 4.4:');\n",
        "\n",
        "print() # разделение вывода\n",
        "\n",
        "# Запрос для анализа/выводов\n",
        "results['4.4'] = load_and_show_data('''\n",
        "    SELECT schedule, employment, Count(*) AS cnt\n",
        "    FROM vacancies\n",
        "    GROUP BY schedule, employment\n",
        "    ORDER BY cnt DESC\n",
        "''', title_of_result='Результат для выводов Юнита 4:');"
      ]
    },
    {
      "cell_type": "markdown",
      "id": "0136ffee-0ead-4a6b-b608-61d1c753a438",
      "metadata": {
        "id": "0136ffee-0ead-4a6b-b608-61d1c753a438"
      },
      "source": [
        "5. Напишите запрос, выводящий значения поля Требуемый опыт работы (experience) в порядке возрастания количества вакансий, в которых указан данный вариант опыта. "
      ]
    },
    {
      "cell_type": "code",
      "execution_count": 360,
      "id": "5b3a8e79-f7ab-4008-b767-12aea3a205ea",
      "metadata": {
        "id": "5b3a8e79-f7ab-4008-b767-12aea3a205ea"
      },
      "outputs": [
        {
          "name": "stdout",
          "output_type": "stream",
          "text": [
            "Результат запроса:\n",
            "        experience   cnt\n",
            "       Более 6 лет  1337\n",
            "         Нет опыта  7197\n",
            "     От 3 до 6 лет 14511\n",
            "От 1 года до 3 лет 26152\n"
          ]
        }
      ],
      "source": [
        "results['4.5'] = load_and_show_data(f'''\n",
        "    SELECT experience, Count(*) AS cnt\n",
        "    FROM vacancies\n",
        "    GROUP BY 1\n",
        "    ORDER BY 2\n",
        "''');"
      ]
    },
    {
      "cell_type": "markdown",
      "id": "oq2b7n1QpIka",
      "metadata": {
        "id": "oq2b7n1QpIka"
      },
      "source": [
        "***"
      ]
    },
    {
      "attachments": {},
      "cell_type": "markdown",
      "id": "e91f87ed-e25c-4f96-9f92-b642e8c0b4fa",
      "metadata": {
        "id": "e91f87ed-e25c-4f96-9f92-b642e8c0b4fa"
      },
      "source": [
        "### Выводы по детальному анализу вакансий (Юнит 4)\n",
        "1) Чем крупнее населенный пункт (площадь, население), тем больше вакансий предлагается в нем.\n",
        "2) Почти у половины (24073) вакансий не указана одна из границ ЗП, возможно данные вакансии имеют определеную ставку(фиксированная ЗП, бюджет?).\n",
        "3) Средне-максимальная ЗП выше средне-минимальной в полтора раза (110537.0 / 71065.0).\n",
        "4) По распорядку и типу занятости явный лидер: \"Полный день/Полная занятость\", хотя на 'пятки уже наступает' \"Удаленная работа\" (пока в ~4.5 раза меньше). К сожалению в БД не фигурирует дата, очень бы хотелось увидеть зависимость(и рост/спад) между \"удаленностью\" и, возможно, ковидными огранчениями.\n",
        "5) Среди кандидатов работодатель выбирает \"золотую середину\" - средне-минимальный опыт: от кандидата будет средний результат при возможно средней ЗП(?). Наверное имеет смысл посмотреть \"Опыт\" в разрезе \"ЗП\""
      ]
    },
    {
      "cell_type": "markdown",
      "id": "7ea20ab6-04a7-40a0-adec-443a0e5a42c3",
      "metadata": {
        "id": "7ea20ab6-04a7-40a0-adec-443a0e5a42c3"
      },
      "source": [
        "# Юнит 5. Анализ работодателей"
      ]
    },
    {
      "cell_type": "markdown",
      "id": "968aed80-74ef-4ffb-b5bf-c65b84e9caea",
      "metadata": {
        "id": "968aed80-74ef-4ffb-b5bf-c65b84e9caea"
      },
      "source": [
        "1. Напишите запрос, который позволит узнать, какие работодатели находятся на первом и пятом месте по количеству вакансий."
      ]
    },
    {
      "cell_type": "code",
      "execution_count": 361,
      "id": "f2d62796-d400-4ec1-a675-88112739a50e",
      "metadata": {
        "id": "f2d62796-d400-4ec1-a675-88112739a50e"
      },
      "outputs": [
        {
          "name": "stdout",
          "output_type": "stream",
          "text": [
            "Результат \"быстрого ответа\" на задание 5.1:\n",
            " company_name  company_vacancies\n",
            "       Яндекс               1933\n",
            "Газпром нефть                331\n",
            "\n",
            "Результат для выводов Юнита 5:\n",
            "                company_name  company_vacancies\n",
            "0                     Яндекс               1933\n",
            "1                 Ростелеком                491\n",
            "2                   Тинькофф                444\n",
            "3                       СБЕР                428\n",
            "4              Газпром нефть                331\n",
            "5                ИК СИБИНТЕК                327\n",
            "6                        МТС                292\n",
            "7                    DataArt                247\n",
            "8      Совкомбанк Технологии                204\n",
            "9                 Первый Бит                176\n",
            "10                       IBS                175\n",
            "11                      Ozon                175\n",
            "12                    Тензор                155\n",
            "13                  Andersen                155\n",
            "14                Спецремонт                151\n",
            "15                        VK                150\n",
            "16    Поляков Денис Иванович                127\n",
            "17  Иннотех, Группа компаний                122\n",
            "18           Bell Integrator                121\n",
            "19                     ANCOR                118\n",
            "20                     ЛАНИТ                117\n",
            "21    МАГНИТ, Розничная сеть                114\n",
            "22   Лига Цифровой Экономики                110\n",
            "23                  Softline                108\n",
            "24                   МегаФон                104\n"
          ]
        }
      ],
      "source": [
        "# Запрос для быстрого ответа на задание\n",
        "load_and_show_data(f'''\n",
        "(\n",
        "    SELECT e.name company_name, Count(v.id) company_vacancies\n",
        "    FROM employers e\n",
        "    JOIN vacancies v ON e.id = v.employer_id\n",
        "    GROUP BY company_name\n",
        "    ORDER BY company_vacancies DESC\n",
        "    LIMIT 1\n",
        ")\n",
        "UNION\n",
        "(\n",
        "    SELECT e.name, Count(v.id)\n",
        "    FROM employers e\n",
        "    JOIN vacancies v ON e.id = v.employer_id\n",
        "    GROUP BY 1\n",
        "    ORDER BY 2 DESC\n",
        "    OFFSET 4\n",
        "    LIMIT 1\n",
        ")\n",
        "ORDER BY company_vacancies DESC\n",
        "''', title_of_result='Результат \"быстрого ответа\" на задание 5.1:');\n",
        "\n",
        "print() # разделитель\n",
        "\n",
        "# Запрос для краткого анализа (вывод)\n",
        "load_and_show_data(f'''\n",
        "(\n",
        "    SELECT e.name company_name, Count(v.id) company_vacancies\n",
        "    FROM employers e\n",
        "    JOIN vacancies v ON e.id = v.employer_id\n",
        "    GROUP BY company_name\n",
        "    HAVING Count(v.id) > 100\n",
        "    ORDER BY company_vacancies DESC\n",
        ")\n",
        "''', show_index=True, title_of_result='Результат для выводов Юнита 5:');\n",
        "\n",
        "# Запрос для сохранения полного результата (возможно пригодится в будущем)\n",
        "results['5.1'] = load_and_show_data(f'''\n",
        "(\n",
        "    SELECT e.name company_name, Count(v.id) company_vacancies\n",
        "    FROM employers e\n",
        "    JOIN vacancies v ON e.id = v.employer_id\n",
        "    GROUP BY company_name\n",
        "    ORDER BY company_vacancies DESC\n",
        ")\n",
        "''', show_result=False)"
      ]
    },
    {
      "cell_type": "markdown",
      "id": "68377cfc-b378-43dc-ab7d-1195abf2c515",
      "metadata": {
        "id": "68377cfc-b378-43dc-ab7d-1195abf2c515"
      },
      "source": [
        "2. Напишите запрос, который для каждого региона выведет количество работодателей и вакансий в нём.\n",
        "Среди регионов, в которых нет вакансий, найдите тот, в котором наибольшее количество работодателей.\n"
      ]
    },
    {
      "cell_type": "code",
      "execution_count": 362,
      "id": "dd7df27a-e3e8-412e-a21a-5d389b71e891",
      "metadata": {
        "id": "dd7df27a-e3e8-412e-a21a-5d389b71e891"
      },
      "outputs": [
        {
          "name": "stdout",
          "output_type": "stream",
          "text": [
            "Результат запроса:\n",
            "  name  employers_cnt  vacancies_cnt\n",
            "Россия            410              0\n",
            "Результат запроса:\n",
            "                                     name  employers_cnt  vacancies_cnt\n",
            "                                   Россия            410              0\n",
            "                                Казахстан            207              0\n",
            "                       Московская область             75              0\n",
            "                       Краснодарский край             19              0\n",
            "                                 Беларусь             18              0\n",
            "                       Ростовская область             18              0\n",
            "                              Азербайджан             17              0\n",
            "                     Республика Татарстан             16              0\n",
            "                    Нижегородская область             16              0\n",
            "                               Узбекистан             15              0\n",
            "                     Белгородская область             10              0\n",
            "                                 Сингапур             10              0\n",
            "                        Калужская область              9              0\n",
            "                    Ленинградская область              9              0\n",
            "                        Самарская область              7              0\n",
            "                      Воронежская область              7              0\n",
            "                        Кировская область              6              0\n",
            "                      Ульяновская область              6              0\n",
            "                               Кыргызстан              6              0\n",
            "                                Австралия              6              0\n",
            "                      Ставропольский край              6              0\n",
            "                       Ивановская область              5              0\n",
            "                         Липецкая область              5              0\n",
            "                    Новосибирская область              5              0\n",
            "                         Тульская область              5              0\n",
            "                                   Канада              5              0\n",
            "                                Швейцария              5              0\n",
            "                          Республика Крым              4              0\n",
            "                       Пензенская область              4              0\n",
            "                     Чувашская Республика              4              0\n",
            "                        Иркутская область              4              0\n",
            "                      Кемеровская область              4              0\n",
            "                    Волгоградская область              4              0\n",
            "                     Свердловская область              4              0\n",
            "                        Рязанская область              4              0\n",
            "                          Минская область              3              0\n",
            "                     Владимирская область              3              0\n",
            "                           Другие регионы              3              0\n",
            "                  Калининградская область              3              0\n",
            "                          Томская область              3              0\n",
            "                    Удмуртская Республика              3              0\n",
            "                      Костромская область              3              0\n",
            "                            Пермский край              3              0\n",
            "                           Алтайский край              3              0\n",
            "                        Красноярский край              3              0\n",
            "                      Ярославская область              3              0\n",
            "                      Саратовская область              2              0\n",
            "                                   Жодино              2              0\n",
            "                         Тверская область              2              0\n",
            "                      Челябинская область              2              0\n",
            "          Солнечный (Ханты-Мансийский АО)              2              0\n",
            "                                   Кунгур              2              0\n",
            "           Юбилейный (Московская область)              2              0\n",
            "                                   Грузия              2              0\n",
            "                       Смоленская область              2              0\n",
            "                                Смолевичи              2              0\n",
            "                          Приморский край              2              0\n",
            "                                   Шатура              2              0\n",
            "                                   Мальта              2              0\n",
            "                                  Арамиль              2              0\n",
            "                                  Щучинск              2              0\n",
            "                                 Норвегия              2              0\n",
            "                           Омская область              2              0\n",
            "              Дудинка (Красноярский край)              2              0\n",
            "              Ворсино (Калужская область)              2              0\n",
            "                          Камчатский край              2              0\n",
            "                               Нефтекумск              1              0\n",
            "                         Новомихайловский              1              0\n",
            "                     Оренбургская область              1              0\n",
            "                        Орловская область              1              0\n",
            "                                 Отрадная              1              0\n",
            "                                      Оха              1              0\n",
            "                                   Панама              1              0\n",
            "                                  Парфино              1              0\n",
            "                                   Плавск              1              0\n",
            "                               Португалия              1              0\n",
            "      Правдинск (Калининградская область)              1              0\n",
            "                        Псковская область              1              0\n",
            "                                Путилково              1              0\n",
            "    Радужный (Ханты-Мансийский АО - Югра)              1              0\n",
            "                        Республика Адыгея              1              0\n",
            "                  Республика Башкортостан              1              0\n",
            "                       Республика Бурятия              1              0\n",
            "                       Республика Карелия              1              0\n",
            "                                   Рыбное              1              0\n",
            "                                    Сатис              1              0\n",
            "                                  Светлый              1              0\n",
            "                          Северо-Курильск              1              0\n",
            "                                 Словения              1              0\n",
            "                                 Сморгонь              1              0\n",
            "                                Сортавала              1              0\n",
            "                                Сосенский              1              0\n",
            "                                  Столбцы              1              0\n",
            "                                  Суздаль              1              0\n",
            "                                  Таиланд              1              0\n",
            "                                  Топчиха              1              0\n",
            "                          Троицко-Печорск              1              0\n",
            "                      Тюменская область\\n              1              0\n",
            "                            Угольные Копи              1              0\n",
            "                                  Удобная              1              0\n",
            "                                Усть-Нера              1              0\n",
            "                           Усть-Ордынский              1              0\n",
            "                              Федоровский              1              0\n",
            "                                Филиппины              1              0\n",
            "                                  Фряново              1              0\n",
            "                         Хабаровский край              1              0\n",
            "                                  Хандыга              1              0\n",
            "                                 Харабали              1              0\n",
            "                                 Целинное              1              0\n",
            "                                  Чекалин              1              0\n",
            "                                    Чемал              1              0\n",
            "               Черлак (Омская область) \\t              1              0\n",
            "                     Чеченская республика              1              0\n",
            "                                Чистополь              1              0\n",
            "                                    Чишмы              1              0\n",
            "                                  Шардара              1              0\n",
            "                                   Швеция              1              0\n",
            "                                    Щучье              1              0\n",
            "                                  Эквадор              1              0\n",
            "                              Южная Корея              1              0\n",
            "                        Приморско-Ахтарск              1              0\n",
            "                                    Агрыз              1              0\n",
            "                                 Адамовка              1              0\n",
            "                                Алапаевск              1              0\n",
            "                             Алексеевская              1              0\n",
            "                                   Ангрен              1              0\n",
            "                                  Андижан              1              0\n",
            "                    Архангельская область              1              0\n",
            "  Архангельское (Республика Башкортостан)              1              0\n",
            "                                      Аса              1              0\n",
            "                     Астраханская область              1              0\n",
            "                                  Атбасар              1              0\n",
            "                                  Балыкчы              1              0\n",
            "                                    Белиз              1              0\n",
            "                         Белогорск (Крым)              1              0\n",
            "                                Беломорск              1              0\n",
            "            Березовка (Красноярский край)              1              0\n",
            "                                   Бобров              1              0\n",
            "                                 Боровичи              1              0\n",
            "                         Брянская область              1              0\n",
            "                            Буда-Кошелево              1              0\n",
            "                            Великий Устюг              1              0\n",
            "                                    Венев              1              0\n",
            "                          Верхнетуломский              1              0\n",
            "                        Витебская область              1              0\n",
            "                      Вологодская область              1              0\n",
            "                              Воротынск\\n              1              0\n",
            "         Восточный (Свердловская область)              1              0\n",
            "                                Гидроторф              1              0\n",
            "                               Гремячинск              1              0\n",
            "                                   Губаха              1              0\n",
            "                              Дальнегорск              1              0\n",
            "                                   Донецк              1              0\n",
            "              Дубки (Саратовская область)              1              0\n",
            "                                  Дубовое              1              0\n",
            "                                 Дубровно              1              0\n",
            "                                  Жаркент              1              0\n",
            "                       Забайкальский край              1              0\n",
            "                         Звёздный Городок              1              0\n",
            "                             Зеленоградск              1              0\n",
            "                                 Зудилово              1              0\n",
            "                                Ивацевичи              1              0\n",
            "                               Иноземцево              1              0\n",
            "                                    Инсар              1              0\n",
            "                                    Ишлеи              1              0\n",
            "                            Калач-на-Дону              1              0\n",
            "                                Каневская              1              0\n",
            "                                 Кизилюрт              1              0\n",
            "     Комсомольское (Чувашская Республика)              1              0\n",
            "                              Костюковичи              1              0\n",
            "             Котовск (Тамбовская область)              1              0\n",
            "                                 Коченево              1              0\n",
            "                                 Красково              1              0\n",
            "                                Лермонтов              1              0\n",
            "                                   Лесной              1              0\n",
            "                 Лесной (Минская область)              1              0\n",
            "                                    Липки              1              0\n",
            "                                  Логойск              1              0\n",
            "              Майна (Ульяновская область)              1              0\n",
            "                                     Мама              1              0\n",
            "           Марфино (Астраханская область)              1              0\n",
            "                                Миллерово              1              0\n",
            "Михайловка (Уфимский район, Башкортостан)              1              0\n",
            "                                  Можайск              1              0\n",
            "                              Морозовск\\n              1              0\n",
            "                                   Несвиж              1              0\n"
          ]
        }
      ],
      "source": [
        "# Запрос для быстрого ответа на задание\n",
        "load_and_show_data(f'''\n",
        "    SELECT a.name, Count(e.id) AS employers_cnt, Count(v.id) AS vacancies_cnt\n",
        "    FROM areas a \n",
        "    JOIN employers e ON a.id = e.area\n",
        "    LEFT JOIN vacancies v ON a.id = v.area_id\n",
        "    WHERE v.id IS NULL\n",
        "    GROUP BY 1\n",
        "    ORDER BY 3, 2 DESC\n",
        "    LIMIT 1\n",
        "''');\n",
        "\n",
        "# Запрос для сохранения полного результата (возможно пригодится в будущем)\n",
        "results['5.2']  = load_and_show_data(f'''\n",
        "    SELECT a.name, Count(e.id) AS employers_cnt, Count(v.id) AS vacancies_cnt\n",
        "    FROM areas a \n",
        "    JOIN employers e ON a.id = e.area\n",
        "    LEFT JOIN vacancies v ON a.id = v.area_id\n",
        "    WHERE v.id IS NULL\n",
        "    GROUP BY 1\n",
        "    ORDER BY 3, 2 DESC\n",
        "''');"
      ]
    },
    {
      "cell_type": "markdown",
      "id": "f2fe0acb-ab1a-4e15-9326-2560e22d73c1",
      "metadata": {
        "id": "f2fe0acb-ab1a-4e15-9326-2560e22d73c1"
      },
      "source": [
        "3. Для каждого работодателя посчитайте количество регионов, в которых он публикует свои вакансии. Отсортируйте результат по убыванию количества.\n"
      ]
    },
    {
      "cell_type": "code",
      "execution_count": 363,
      "id": "6271f8ad-bd2e-4196-ae4a-5b39c4c1010e",
      "metadata": {
        "id": "6271f8ad-bd2e-4196-ae4a-5b39c4c1010e"
      },
      "outputs": [
        {
          "name": "stdout",
          "output_type": "stream",
          "text": [
            "Результат \"быстрого ответа\" на задание 5.3:\n",
            " max_cnt\n",
            "     181\n",
            "\n",
            "Результат для выводов Юнита 5:\n",
            "                                                                name  max_cnt\n",
            "                                                              Яндекс      181\n",
            "                                                          Ростелеком      152\n",
            "                                                          Спецремонт      116\n",
            "                                              Поляков Денис Иванович       88\n",
            "                                                           ООО ЕФИН        71\n",
            "                                                          Совкомбанк       63\n",
            "                                                                 МТС       55\n",
            "                                          ЭФКО, Управляющая компания       49\n",
            "                                                        Почта России       48\n",
            "                                                                КРОН       48\n",
            "                                                               MCORE       46\n",
            "                                                         ИК СИБИНТЕК       46\n",
            "                                                     Сбербанк-Сервис       45\n",
            "                                                               ANCOR       44\n",
            "                                                            Тинькофф       43\n",
            "                                                          Первый Бит       43\n",
            "                                                               АЛНАС       41\n",
            "                                                                 IBS       36\n",
            "                                                                Ozon       36\n",
            "                                                               Авито       35\n",
            "                                                       Т1 Интеграция       34\n",
            "                                                          АТМ АЛЬЯНС       34\n",
            "                                                          ЭР-Телеком       33\n",
            "                                                               ЛАНИТ       29\n",
            "                                                            1C-Рарус       28\n",
            "                                     Красное & Белое, розничная сеть       27\n",
            "                                                          Volna.tech       27\n",
            "                                               Совкомбанк Технологии       26\n",
            "                                                     Bell Integrator       26\n",
            "                                              МАГНИТ, Розничная сеть       25\n",
            "                Филиал ФКУ Налог-Сервис ФНС России по ЦОД в г.Москве       25\n",
            "                                                              Тензор       25\n",
            "                                                             Playrix       25\n",
            "                                                         Спортмастер       25\n",
            "                                                            Softline       25\n",
            "                                                                Нэти       24\n",
            "                                                       Газпром нефть       24\n",
            "                                                                СБЕР       24\n",
            "                                                      Банк ВТБ (ПАО)       24\n",
            "                                               Sumitec International       23\n",
            "                       Сеть магазинов цифровой и бытовой техники DNS       23\n",
            "                                                    Консалтинг Групп       23\n",
            "                                                      «Аксиома-Софт»       23\n",
            "                                                             МегаФон       23\n",
            "                                                      Диалог Регионы       23\n",
            "              Российская телевизионная и радиовещательная сеть, ФГУП       22\n",
            "                                                      Россельхозбанк       22\n",
            "                                                          Северсталь       21\n",
            "                                                            Homework       21\n",
            "                                                            ITooLabs       21\n",
            "                                                          Калашников       21\n",
            "                                                           Норникель       20\n",
            "                                              СИБУР, Группа компаний       20\n",
            "                                                            Гринатом       20\n",
            "                                                     Цифровая Сибирь       19\n",
            "                                            Иннотех, Группа компаний       19\n",
            "                               Центральный банк Российской Федерации       19\n",
            "                                                  Pride Games Studio       19\n",
            "                                                          СимбирСофт       19\n",
            "                     БФТ-Холдинг (Бюджетные и Финансовые Технологии)       19\n",
            "                                                           ALP GROUP       19\n",
            "                                                           Petshopru       18\n",
            "                  КБ Уральский банк реконструкции и развития (УБРиР)       18\n",
            "                                                                 ДКС       18\n",
            "                                                      ЦИФРОВОЙ ВЫБОР       18\n",
            "                                                       КРАСЛЕСИНВЕСТ       18\n",
            "                                                              Ingate       17\n",
            "                                                                  VK       17\n",
            "                                                               Goodt       17\n",
            "                                                           Мегаполис       17\n",
            "                                      РУСАЛ, Центр подбора персонала       17\n",
            "                                                              билайн       17\n",
            "                                                                2ГИС       17\n",
            "                                                        Леруа Мерлен       16\n",
            "                                                             JCat.ru       16\n",
            "                                         Центр финансовых технологий       16\n",
            "                                                             Боравто       16\n",
            "                                                                Кама       16\n",
            "                                                          Mintrocket       16\n",
            "                                                     Сеть Партнерств       16\n",
            "                                                    Алабуга, ОЭЗ ППТ       16\n",
            "                                                              Контур       16\n",
            "                                                   Спарго Технологии       16\n",
            "                                                СофтЭксперт, г. Тула       16\n",
            "                                                         Центр СодБи       16\n",
            "                                   ОКЕЙ – Федеральная розничная сеть       15\n",
            "                                                            Andersen       15\n",
            "                                                   UCMS Group Russia       15\n",
            "                                                               ЕВРАЗ       15\n",
            "                                   Лента, федеральная розничная сеть       15\n",
            "                                             Лига Цифровой Экономики       15\n",
            "                              Объединенная металлургическая компания       15\n",
            "                                                         Ресурс, ГАП       15\n",
            "                                            Центр Высоких Технологий       15\n",
            "                                               ХОСТ, Группа компаний       14\n",
            "                                              ЭкоНиваТехника-Холдинг       14\n",
            "                                                               АСКОН       14\n",
            "                           Уральская горно-металлургическая компания       14\n",
            "                                                       Ржд-Техсервис       14\n",
            "                                                             ЭЙТИДЖИ       14\n",
            "                                                      EvenBet Gaming       13\n",
            "                                       Сиренц Глобал Мерчантс Восток       13\n",
            "                                                               Новео       13\n",
            "                                                        ICL Services       13\n",
            "                                                                 ФТО       13\n",
            "                                                              Уфанет       13\n",
            "                                                             РМ АГРО       13\n",
            "                                                                ELMA       13\n",
            "                                   Трубная Металлургическая Компания       13\n",
            "                             ГКУ МО Центр Агропромышленного Развития       13\n",
            "                                                             Мой Дом       13\n",
            "                                                            SberTech       13\n",
            "                                            Ростелеком Контакт-центр       13\n",
            "                                                        SearchInform       13\n",
            "                                                             Бастион       13\n",
            "                                                                 SPL       13\n",
            "                                                             Связной       13\n",
            "                                                Лаборатория Гемотест       13\n",
            "                                                             Смартер       13\n",
            "                                                 Мидлэнд Ритейл Груп       12\n",
            "Институт управления Правительства Ямало-Ненецкого автономного округа       12\n",
            "                                                        ИКСПЛАНЕТ.РУ       12\n",
            "                                                       ЭТМ, компания       12\n",
            "                                                         Группа НЛМК       12\n",
            "                                                             РОСБАНК       12\n",
            "                                            Бристоль, сеть магазинов       12\n",
            "                                                           БАРС Груп       12\n",
            "                                     Атос АйТи Солюшенс энд Сервисез       12\n",
            "                                                          Сервионика       12\n",
            "                                                           АК АЛРОСА       12\n",
            "                                                               Ситек       12\n",
            "                                         Азиатско-Тихоокеанский Банк       12\n",
            "                                                        Spice Agency       12\n",
            "                                                         Southbridge       12\n",
            "                                                            Тамерлан       12\n",
            "                                                         Playgendary       12\n",
            "                                                  METRO Cash & Carry       12\n",
            "                                    ТрансМашХолдинг, Группа компаний       12\n",
            "                                                           ISPsystem       12\n",
            "                                                       AKRON HOLDING       12\n",
            "                                                                Hoff       12\n",
            "                                                        Белое Облако       11\n",
            "                                       Черкизово, Группа предприятий       11\n",
            "                                    Диалог Информационные Технологии       11\n",
            "                                                              Диплей       11\n",
            "                                                         Новосталь-М       11\n",
            "                                                    РосПром Персонал       11\n",
            "                                                             УК ЭЛСИ       11\n",
            "                                                               Aston       11\n",
            "                                                      Промэкспертиза       11\n",
            "                                                       Новая столица       11\n",
            "                                                       Промсвязьбанк       11\n",
            "                                             Группа Компаний РУСАГРО       11\n",
            "                                             Группа компаний Система       11\n",
            "                                                        К-ТЕХНОЛОГИИ       11\n",
            "                                                    Ай-Теко (I-Teco)       11\n",
            "                    Системный оператор Единой энергетической системы       11\n",
            "                                                          КонсалтПро       11\n",
            "                                                               Астор       11\n",
            "                                                     HEADS and HANDS       11\n",
            "                                                               Tele2       11\n",
            "                                                       Банк Открытие       11\n",
            "                                                            ГЭНДАЛЬФ       11\n",
            "                                                          Employcity       11\n",
            "                                Ростелеком Информационные Технологии       11\n",
            "                                        Сыктывкарский фанерный завод       11\n"
          ]
        }
      ],
      "source": [
        "# Запрос для быстрого ответа на задание\n",
        "load_and_show_data(f'''\n",
        "    SELECT Count(DISTINCT area_id) AS max_cnt\n",
        "    FROM vacancies\n",
        "    GROUP BY employer_id\n",
        "    ORDER BY 1 DESC\n",
        "    LIMIT 1\n",
        "''', title_of_result='Результат \"быстрого ответа\" на задание 5.3:');\n",
        "\n",
        "print()\n",
        "\n",
        "# Запрос для краткого анализа (вывод)\n",
        "load_and_show_data(f'''\n",
        "    SELECT e.name, Count(DISTINCT area_id) AS max_cnt\n",
        "    FROM vacancies v\n",
        "    JOIN employers e ON v.employer_id = e.id\n",
        "    GROUP BY e.name\n",
        "    HAVING Count(DISTINCT area_id) > 10\n",
        "    ORDER BY max_cnt DESC\n",
        "''', title_of_result='Результат для выводов Юнита 5:');\n",
        "\n",
        "# Запрос для сохранения полного результата (возможно пригодится в будущем)\n",
        "results['5.3']  = load_and_show_data(f'''\n",
        "    SELECT e.name, Count(DISTINCT area_id) AS max_cnt\n",
        "    FROM vacancies v\n",
        "    JOIN employers e ON v.employer_id = e.id\n",
        "    GROUP BY e.name\n",
        "    ORDER BY max_cnt DESC\n",
        "''', show_result=False);"
      ]
    },
    {
      "cell_type": "markdown",
      "id": "eab2206d-d95b-468b-8e5f-34381abf0ce7",
      "metadata": {
        "id": "eab2206d-d95b-468b-8e5f-34381abf0ce7"
      },
      "source": [
        "4. Напишите запрос для подсчёта количества работодателей, у которых не указана сфера деятельности. "
      ]
    },
    {
      "cell_type": "code",
      "execution_count": 364,
      "id": "80defb23-bfb1-4a18-8be6-bf36aa7165d5",
      "metadata": {
        "id": "80defb23-bfb1-4a18-8be6-bf36aa7165d5"
      },
      "outputs": [
        {
          "name": "stdout",
          "output_type": "stream",
          "text": [
            "Результат запроса:\n",
            " employers_without_industries\n",
            "                         8419\n"
          ]
        }
      ],
      "source": [
        "# Запрос для быстрого ответа на задание\n",
        "load_and_show_data(f'''\n",
        "    SELECT Count(*) AS employers_without_industries\n",
        "    FROM employers e\n",
        "    LEFT JOIN employers_industries ei ON e.id = ei.employer_id\n",
        "    WHERE ei.employer_id IS NULL\n",
        "''');"
      ]
    },
    {
      "cell_type": "markdown",
      "id": "0112af31-f6b0-4e3b-82ab-71296e752e5e",
      "metadata": {
        "id": "0112af31-f6b0-4e3b-82ab-71296e752e5e"
      },
      "source": [
        "5. Напишите запрос, чтобы узнать название компании, находящейся на третьем месте в алфавитном списке (по названию) компаний, у которых указано четыре сферы деятельности. "
      ]
    },
    {
      "cell_type": "code",
      "execution_count": 365,
      "id": "973b0cfc-a972-470a-8b4a-68744ef220c4",
      "metadata": {
        "id": "973b0cfc-a972-470a-8b4a-68744ef220c4"
      },
      "outputs": [
        {
          "name": "stdout",
          "output_type": "stream",
          "text": [
            "Результат \"быстрого ответа\" на задание 5.5:\n",
            "name\n",
            "2ГИС\n",
            "\n"
          ]
        },
        {
          "data": {
            "text/plain": [
              "<AxesSubplot: >"
            ]
          },
          "execution_count": 365,
          "metadata": {},
          "output_type": "execute_result"
        },
        {
          "data": {
            "image/png": "[encoded data removed]",
            "text/plain": [
              "<Figure size 640x480 with 1 Axes>"
            ]
          },
          "metadata": {},
          "output_type": "display_data"
        }
      ],
      "source": [
        "# Запрос для быстрого ответа на задание\n",
        "load_and_show_data(f'''\n",
        "    SELECT e.name\n",
        "    FROM employers e\n",
        "    JOIN employers_industries ei ON e.id = ei.employer_id\n",
        "    GROUP BY e.name\n",
        "    HAVING Count(distinct ei.industry_id) = 4\n",
        "    ORDER BY e.name\n",
        "    OFFSET 2\n",
        "    LIMIT 1\n",
        "''', title_of_result='Результат \"быстрого ответа\" на задание 5.5:');\n",
        "\n",
        "print()\n",
        "\n",
        "# Запрос для сохранения полного результата (возможно пригодится в будущем)\n",
        "results['5.5'] = load_and_show_data(f'''\n",
        "    SELECT e.name, Count(DISTINCT ei.industry_id) AS industry_cnt\n",
        "    FROM employers e\n",
        "    JOIN employers_industries ei ON e.id = ei.employer_id\n",
        "    GROUP BY e.name\n",
        "    ORDER BY industry_cnt DESC\n",
        "''', show_result=False);\n",
        "\n",
        "# Диаграмма для краткого анализа\n",
        "results['5.5'].boxplot('industry_cnt')\n"
      ]
    },
    {
      "cell_type": "markdown",
      "id": "3bfcfdaf-755d-4d2b-8ed8-326201dc07ab",
      "metadata": {
        "id": "3bfcfdaf-755d-4d2b-8ed8-326201dc07ab"
      },
      "source": [
        "6. С помощью запроса выясните, у какого количества работодателей в качестве сферы деятельности указана Разработка программного обеспечения.\n"
      ]
    },
    {
      "cell_type": "code",
      "execution_count": 366,
      "id": "ad3f270f-2991-47eb-929b-e8f88a55b0d1",
      "metadata": {
        "id": "ad3f270f-2991-47eb-929b-e8f88a55b0d1"
      },
      "outputs": [
        {
          "name": "stdout",
          "output_type": "stream",
          "text": [
            "Результат запроса:\n",
            " emp_dev_po\n",
            "       3553\n",
            "\n",
            "Результат для выводов Юнита 5:\n",
            "                                 short_name_industry  emp_dev_po\n",
            "0                Разработка программного обеспечения        3553\n",
            "1  Системная интеграция,  автоматизации технологичес        2993\n",
            "2  Интернет-компания (поисковики, платежные системы,        1675\n",
            "3  Маркетинговые, рекламные, BTL, дизайнерские, Even         798\n",
            "4                              Консалтинговые услуги         662\n",
            "5  Электронно-вычислительная, оптическая, контрольно         629\n",
            "6  Промышленное, бытовое электрооборудование и элект         507\n",
            "7                                 Кадровые агентства         389\n",
            "8                       Розничная сеть (продуктовая)         368\n",
            "9                                   Интернет-магазин         351\n"
          ]
        }
      ],
      "source": [
        "# Запрос для быстрого ответа на задание\n",
        "load_and_show_data(f'''\n",
        "    SELECT Count(DISTINCT ei.employer_id) AS emp_dev_po\n",
        "    FROM employers_industries ei\n",
        "    JOIN industries i ON ei.industry_id = i.id\n",
        "    WHERE i.name = 'Разработка программного обеспечения'\n",
        "''');\n",
        "\n",
        "print()\n",
        "\n",
        "# Запрос для краткого анализа (вывод)\n",
        "load_and_show_data(f'''\n",
        "    SELECT Substring(i.name, 0, 50) short_name_industry, Count(DISTINCT ei.employer_id) AS emp_dev_po\n",
        "    FROM employers_industries ei\n",
        "    JOIN industries i ON ei.industry_id = i.id\n",
        "    GROUP BY short_name_industry\n",
        "    ORDER BY emp_dev_po DESC\n",
        "    LIMIT 10\n",
        "''', title_of_result='Результат для выводов Юнита 5:', show_index=True);\n",
        "\n",
        "# Запрос для сохранения полного результата (возможно пригодится в будущем)\n",
        "results['5.5'] = load_and_show_data(f'''\n",
        "    SELECT Substring(i.name, 0, 50) short_name_industry, Count(DISTINCT ei.employer_id) AS emp_dev_po\n",
        "    FROM employers_industries ei\n",
        "    JOIN industries i ON ei.industry_id = i.id\n",
        "    GROUP BY short_name_industry\n",
        "    ORDER BY emp_dev_po DESC\n",
        "''', show_result=False);"
      ]
    },
    {
      "cell_type": "markdown",
      "id": "7b02bb86-0546-40fb-94a4-242f050a5c57",
      "metadata": {
        "id": "7b02bb86-0546-40fb-94a4-242f050a5c57"
      },
      "source": [
        "7. Для компании «Яндекс» выведите список регионов-миллионников, в которых представлены вакансии компании, вместе с количеством вакансий в этих регионах. Также добавьте строку Total с общим количеством вакансий компании. Результат отсортируйте по возрастанию количества.\n",
        "\n",
        "Список городов-милионников надо взять [отсюда](https://ru.wikipedia.org/wiki/%D0%93%D0%BE%D1%80%D0%BE%D0%B4%D0%B0-%D0%BC%D0%B8%D0%BB%D0%BB%D0%B8%D0%BE%D0%BD%D0%B5%D1%80%D1%8B_%D0%A0%D0%BE%D1%81%D1%81%D0%B8%D0%B8). \n",
        "\n",
        "Если возникнут трудности с этим задание посмотрите материалы модуля  PYTHON-17. Как получать данные из веб-источников и API. "
      ]
    },
    {
      "cell_type": "code",
      "execution_count": 367,
      "id": "ZdfrL6gIs1Pn",
      "metadata": {
        "id": "ZdfrL6gIs1Pn"
      },
      "outputs": [
        {
          "name": "stdout",
          "output_type": "stream",
          "text": [
            "Из \"википедии\" с помощью библиотек \"requests\" и \"BeautifulSoup\". найдены следующие города-миллионнеры (всего-16):\n",
            "Москва, Санкт-Петербург, Новосибирск, Екатеринбург, Казань, Нижний Новгород, Челябинск, Красноярск, Самара, Уфа, Ростов-на-Дону, Омск, Краснодар, Воронеж, Пермь, Волгоград\n"
          ]
        }
      ],
      "source": [
        "# код для получения списка городов-милионников, выполнен для закрепления навыков программировая на Python\n",
        "\n",
        "# импортируем нужные библиотеки для загрузки данных из \"Сети\" и их(данных) парсинга\n",
        "from bs4 import BeautifulSoup\n",
        "import requests\n",
        "\n",
        "# используя \"постоянную\" ссылка, загружаем данные по консантрой ссылке\n",
        "url = 'https://ru.wikipedia.org/wiki/%D0%93%D0%BE%D1%80%D0%BE%D0%B4%D0%B0-%D0%BC%D0%B8%D0%BB%D0%BB%D0%B8%D0%BE%D0%BD%D0%B5%D1%80%D1%8B_%D0%A0%D0%BE%D1%81%D1%81%D0%B8%D0%B8'\n",
        "text = requests.get(url).text\n",
        "\n",
        "# начинаем \"искать\" нужные данные на HTML-странице\n",
        "# предварительный анализ (исходный код страницы), показал, что список нужных нам городов находится во второй ячейке TD, таблицы, находящейся за родителем \"заголовка\" <SPAN>\n",
        "# Краткий алгоримт следующего кода:\n",
        "# - находим <SPAN> с нужным ID\n",
        "# - переходим к родителя с сразу возвращаем следующего \"брата\"\n",
        "# - проверяем таблица ли это, иначе переходим к следующему \"брату\", и так, пока не найдем таблицу\n",
        "# - возвращаем все записи в найденной таблице\n",
        "# - определяем переменную для результата\n",
        "# - перебираем все записи в таблице\n",
        "# - если, ячеек больше чем одна, то скорее всего это запись с названием города\n",
        "# - забираем название города (в результат), предварительно очистим от \"лишних\" символов\n",
        "# - выводим промежуточный вывод\n",
        "table_with_cities = BeautifulSoup(text, 'html.parser').find('span', id='Список_городов-миллионеров')\n",
        "table_with_cities = table_with_cities.parent.next_sibling\n",
        "\n",
        "while table_with_cities.name != 'table':\n",
        "    table_with_cities = table_with_cities.next_sibling\n",
        "\n",
        "table_with_cities_trs = table_with_cities.find('tbody').find_all('tr')\n",
        "\n",
        "million_cities = []\n",
        "for row in table_with_cities_trs:\n",
        "    tds = row.find_all('td')\n",
        "    if len(tds) > 1:\n",
        "        million_cities.append(tds[1].text.strip().replace('[a]', ''))\n",
        "\n",
        "print('Из \"википедии\" с помощью библиотек \"requests\" и \"BeautifulSoup\". найдены следующие города-миллионнеры (всего-{}):'.format(len(million_cities)))\n",
        "print(*million_cities, sep=', ')"
      ]
    },
    {
      "cell_type": "code",
      "execution_count": 368,
      "id": "5a0e32a4-e68a-4365-8a39-2fe24c542c36",
      "metadata": {
        "id": "5a0e32a4-e68a-4365-8a39-2fe24c542c36"
      },
      "outputs": [
        {
          "name": "stdout",
          "output_type": "stream",
          "text": [
            "Результат запроса:\n",
            "               name  cnt\n",
            "0              Омск   21\n",
            "1         Челябинск   22\n",
            "2        Красноярск   23\n",
            "3         Волгоград   24\n",
            "4            Казань   25\n",
            "5             Пермь   25\n",
            "6    Ростов-на-Дону   25\n",
            "7            Самара   26\n",
            "8               Уфа   26\n",
            "9         Краснодар   30\n",
            "10          Воронеж   32\n",
            "11      Новосибирск   35\n",
            "12  Нижний Новгород   36\n",
            "13     Екатеринбург   39\n",
            "14  Санкт-Петербург   42\n",
            "15           Москва   54\n",
            "16            Total  485\n"
          ]
        }
      ],
      "source": [
        "# предварительно формируем строки для запроса в формате SQL названия города и искомую компанию\n",
        "where_million_cities = \"'\" + \"','\".join(million_cities) + \"'\"\n",
        "where_company_name = \"'Яндекс'\"\n",
        "\n",
        "# Запрос для быстрого ответа на задание и для сохранения полного результата (возможно пригодится в будущем)\n",
        "results['5.5'] = load_and_show_data(f'''\n",
        "(\n",
        "\tSELECT a.name AS name, Count(*) AS cnt\n",
        "\tFROM areas a\n",
        "\tJOIN vacancies v ON a.id = v.area_id\n",
        "\tJOIN employers e ON e.id = v.employer_id\n",
        "\tWHERE a.name IN ({where_million_cities}) AND e.name = {where_company_name}\n",
        "\tGROUP BY a.name\n",
        ")\n",
        "UNION\n",
        "(\n",
        "\tSELECT 'Total' AS name, Count(*) cnt\n",
        "\tFROM areas a\n",
        "\tJOIN vacancies v ON a.id = v.area_id\n",
        "\tJOIN employers e ON e.id = v.employer_id\n",
        "\tWHERE a.name IN ({where_million_cities}) AND e.name = {where_company_name}\n",
        ")\n",
        "ORDER BY cnt, name\n",
        "''', show_index=True);"
      ]
    },
    {
      "cell_type": "markdown",
      "id": "04966e40-3bc3-4dc8-9ba2-e80580ce3abc",
      "metadata": {
        "id": "04966e40-3bc3-4dc8-9ba2-e80580ce3abc"
      },
      "source": [
        "***"
      ]
    },
    {
      "attachments": {},
      "cell_type": "markdown",
      "id": "aGGyER-yt4SR",
      "metadata": {
        "id": "aGGyER-yt4SR"
      },
      "source": [
        "### Выводы по анализу работодателей (Юнит 5)\n",
        "1) Больше всех вакансии (почти в 4 раза от \"второго\" места) предлагает компания Яндекс, далее в ТОП-25 (с количеством предлагаемых вакансий от 100), входят довольно крупные компании (ИТ, Банки, Связь, Нефть), которым постоянно требуется новые кадры: развитие, возможная \"текучка кадров\", расширение бизнеса  и т.д.\n",
        "\n",
        "2) Учитывая регионы в которых не предлагается вакансий, можно выявить следующую закономерность: чем крупнее(обширнее) область (страна, регион/республика, город), тем больше в ней компаний у которых нет вакансий. Скорее всего это связано с небольшими компаниями, которые обобщенно указывали наиболее крупный регион (возможно требовалось для регистрации на HH) и предлагали удаленную работу. После закрытия вакансии, информации об компании оставалась в БД HH, при этом вакансия уже \"не видна\" и так и образовались работодатели \"без вакансии\".\n",
        "\n",
        "3) Наибольшее количество регионов у \"троицы\": Яндекс, Ростелеком, Спецремонт, это может быть связано с широкой сетью офисов(предоставления услуг) по регионам, что точно характерно для Ростелекома. Также возможно идет \"сбор специалистов по регионом\" с возможной удаленной работой или предложением постоянной релокации в ближайший офис компании\n",
        "\n",
        "4) Очень странно видеть такое количество (8419 / 23501, больше трети) работодателей у которых не указана сфера деятельности, наверняка можно выбрать из 294 или дать какое-то обобщенное название.\n",
        "\n",
        "5) Наиболее часто (мода, медианна) компании указывают 1-2 сферы деятельности, что характерно, очень редко - от 6 и более.\n",
        "\n",
        "6) Фактически весь TOP-10 (за исключением \"Розничная сеть (продуктовая)\") сгруппированных компаний и отсортированных(убывание) по сфере деятельности, представляют компании, связанные с IT. Таким компаниям совсем не сложно искать новые кадрые через Интернет.\n",
        "\n",
        "7) Компания \"Яндекс\" представлена(предлагает вакансии) в каждом из регионов-миллионников, практически пропорционально (кол-во вакансий) населению этого региона."
      ]
    },
    {
      "cell_type": "markdown",
      "id": "b1ef156a-efcb-49ce-bb23-90763e7f35b2",
      "metadata": {
        "id": "b1ef156a-efcb-49ce-bb23-90763e7f35b2",
        "tags": []
      },
      "source": [
        "# Юнит 6. Предметный анализ"
      ]
    },
    {
      "cell_type": "markdown",
      "id": "b9cd50a0-992d-4988-8463-2b2b1c4629b4",
      "metadata": {
        "id": "b9cd50a0-992d-4988-8463-2b2b1c4629b4"
      },
      "source": [
        "1. Сколько вакансий имеет отношение к данным?\n",
        "\n",
        "Считаем, что вакансия имеет отношение к данным, если в её названии содержатся слова 'data' или 'данн'.\n",
        "\n",
        "*Подсказка: Обратите внимание, что названия вакансий могут быть написаны в любом регистре.* \n"
      ]
    },
    {
      "cell_type": "code",
      "execution_count": 369,
      "id": "54ab0e50-c0f1-47cc-a54b-bc5c8bc363f9",
      "metadata": {
        "id": "54ab0e50-c0f1-47cc-a54b-bc5c8bc363f9"
      },
      "outputs": [
        {
          "name": "stdout",
          "output_type": "stream",
          "text": [
            "Результат запроса:\n",
            " ds_count\n",
            "     1771\n"
          ]
        }
      ],
      "source": [
        "load_and_show_data(f'''\n",
        "    SELECT Count(*) AS ds_count\n",
        "    FROM vacancies\n",
        "    WHERE Lower(name) LIKE '%data%' OR Lower(name) LIKE '%данн%'\n",
        "''');"
      ]
    },
    {
      "cell_type": "markdown",
      "id": "4dea20cb-a36b-474a-a0b9-e08e8e3857a5",
      "metadata": {
        "id": "4dea20cb-a36b-474a-a0b9-e08e8e3857a5"
      },
      "source": [
        "2. Сколько есть подходящих вакансий для начинающего дата-сайентиста? \n",
        "Будем считать вакансиями для дата-сайентистов такие, в названии которых есть хотя бы одно из следующих сочетаний:\n",
        "* 'data scientist'\n",
        "* 'data science'\n",
        "* 'исследователь данных'\n",
        "* 'ML' (здесь не нужно брать вакансии по HTML)\n",
        "* 'machine learning'\n",
        "* 'машинн%обучен%'\n",
        "\n",
        "** В следующих заданиях мы продолжим работать с вакансиями по этому условию.*\n",
        "\n",
        "Считаем вакансиями для специалистов уровня Junior следующие:\n",
        "* в названии есть слово 'junior' *или*\n",
        "* требуемый опыт — Нет опыта *или*\n",
        "* тип трудоустройства — Стажировка.\n",
        " "
      ]
    },
    {
      "cell_type": "code",
      "execution_count": 370,
      "id": "9c61b3c0-bb66-46c9-ae1e-81d3f5752b4a",
      "metadata": {
        "id": "9c61b3c0-bb66-46c9-ae1e-81d3f5752b4a"
      },
      "outputs": [
        {
          "name": "stdout",
          "output_type": "stream",
          "text": [
            "Результат запроса:\n",
            " junior_cnt\n",
            "         51\n"
          ]
        }
      ],
      "source": [
        "load_and_show_data(f'''\n",
        "    SELECT Count(*) AS junior_cnt\n",
        "    FROM vacancies\n",
        "    WHERE (\n",
        "        Lower(name) LIKE '%data scientist%' OR\n",
        "        Lower(name) LIKE '%data science%'   OR\n",
        "        Lower(name) LIKE '%исследователь данных%' OR\n",
        "        Lower(name) LIKE '%machine learning%' OR\n",
        "        Lower(name) LIKE '%машинн%обучен%%' OR (\n",
        "            name LIKE '%ML%' AND\n",
        "            name NOT LIKE '%HTML%'\n",
        "        )\n",
        "    ) AND (\n",
        "        Lower(name) LIKE '%junior%' OR\n",
        "        experience = 'Нет опыта' OR\n",
        "        employment = 'Стажировка'\n",
        "    )\n",
        "''');"
      ]
    },
    {
      "cell_type": "markdown",
      "id": "eedceb80-c5ca-480e-b27a-278dfb8b4438",
      "metadata": {
        "id": "eedceb80-c5ca-480e-b27a-278dfb8b4438"
      },
      "source": [
        "3. Сколько есть вакансий для DS, в которых в качестве ключевого навыка указан SQL или postgres?\n",
        "\n",
        "** Критерии для отнесения вакансии к DS указаны в предыдущем задании.*"
      ]
    },
    {
      "cell_type": "code",
      "execution_count": 371,
      "id": "69621713-0cc5-4f1b-a1d7-bb144fa6148c",
      "metadata": {
        "id": "69621713-0cc5-4f1b-a1d7-bb144fa6148c"
      },
      "outputs": [
        {
          "name": "stdout",
          "output_type": "stream",
          "text": [
            "Результат запроса:\n",
            " ds_and_db_cnt\n",
            "           201\n"
          ]
        }
      ],
      "source": [
        "load_and_show_data(f'''\n",
        "    SELECT Count(*) AS ds_and_db_cnt\n",
        "    FROM vacancies\n",
        "    WHERE (\n",
        "        Lower(name) LIKE '%data scientist%' OR\n",
        "        Lower(name) LIKE '%data science%'   OR\n",
        "        Lower(name) LIKE '%исследователь данных%' OR\n",
        "        Lower(name) LIKE '%machine learning%' OR\n",
        "        Lower(name) LIKE '%машинн%обучен%%' OR (\n",
        "            name LIKE '%ML%' AND\n",
        "            name NOT LIKE '%HTML%'\n",
        "        )\n",
        "    ) AND (\n",
        "        Upper(key_skills) LIKE '%SQL%' OR\n",
        "        Lower(key_skills) LIKE '%postgres%'\n",
        "    )\n",
        "''');"
      ]
    },
    {
      "cell_type": "markdown",
      "id": "1be1e9c6-37cf-4a5f-bfeb-04cab799dc80",
      "metadata": {
        "id": "1be1e9c6-37cf-4a5f-bfeb-04cab799dc80"
      },
      "source": [
        "4. Проверьте, насколько популярен Python в требованиях работодателей к DS.Для этого вычислите количество вакансий, в которых в качестве ключевого навыка указан Python.\n",
        "\n",
        "** Это можно сделать помощью запроса, аналогичного предыдущему.*"
      ]
    },
    {
      "cell_type": "code",
      "execution_count": 372,
      "id": "0036a355-9ccf-4564-8b01-73d8194297e7",
      "metadata": {
        "id": "0036a355-9ccf-4564-8b01-73d8194297e7"
      },
      "outputs": [
        {
          "name": "stdout",
          "output_type": "stream",
          "text": [
            "Результат запроса:\n",
            " ds_and_python_cnt\n",
            "               351\n"
          ]
        }
      ],
      "source": [
        "load_and_show_data(f'''\n",
        "    SELECT count(*) ds_and_python_cnt\n",
        "    FROM vacancies\n",
        "    WHERE (\n",
        "        Lower(name) LIKE '%data scientist%' OR\n",
        "        Lower(name) LIKE '%data science%'   OR\n",
        "        Lower(name) LIKE '%исследователь данных%' OR\n",
        "        Lower(name) LIKE '%machine learning%' OR\n",
        "        Lower(name) LIKE '%машинн%обучен%%' OR (\n",
        "            name LIKE '%ML%' AND\n",
        "            name NOT LIKE '%HTML%'\n",
        "        )\n",
        "    ) AND \n",
        "        Lower(key_skills) LIKE '%python%'\n",
        "''');"
      ]
    },
    {
      "cell_type": "markdown",
      "id": "ec3c8db7-fa21-4a41-a994-1af63742a642",
      "metadata": {
        "id": "ec3c8db7-fa21-4a41-a994-1af63742a642"
      },
      "source": [
        "5. Сколько ключевых навыков в среднем указывают в вакансиях для DS?\n",
        "Ответ округлите до двух знаков после точки-разделителя."
      ]
    },
    {
      "cell_type": "code",
      "execution_count": 373,
      "id": "949132bc-d5b6-4611-8218-0b9a504d74f4",
      "metadata": {
        "id": "949132bc-d5b6-4611-8218-0b9a504d74f4"
      },
      "outputs": [
        {
          "name": "stdout",
          "output_type": "stream",
          "text": [
            "Результат запроса:\n",
            " ds_key_skills_cnt\n",
            "              6.41\n"
          ]
        }
      ],
      "source": [
        "load_and_show_data(f'''\n",
        "    SELECT Round(\n",
        "                Avg(\n",
        "                    1 + length(key_skills) - length(replace(key_skills, chr(9), ''))  \n",
        "                )\n",
        "            , 2) AS ds_key_skills_cnt\n",
        "    FROM vacancies\n",
        "    WHERE \n",
        "        key_skills IS NOT NULL AND\n",
        "        (\n",
        "            Lower(name) LIKE '%data scientist%' OR\n",
        "            Lower(name) LIKE '%data science%'   OR\n",
        "            Lower(name) LIKE '%исследователь данных%' OR\n",
        "            Lower(name) LIKE '%machine learning%' OR\n",
        "            Lower(name) LIKE '%машинн%обучен%%' OR (\n",
        "                name LIKE '%ML%' AND\n",
        "                name NOT LIKE '%HTML%'\n",
        "            )\n",
        "        )\n",
        "''');"
      ]
    },
    {
      "cell_type": "markdown",
      "id": "1041c17a-ca8f-4543-a0ca-32778914fb00",
      "metadata": {
        "id": "1041c17a-ca8f-4543-a0ca-32778914fb00"
      },
      "source": [
        "6. Напишите запрос, позволяющий вычислить, какую зарплату для DS в **среднем** указывают для каждого типа требуемого опыта (уникальное значение из поля *experience*). \n",
        "\n",
        "При решении задачи примите во внимание следующее:\n",
        "1. Рассматриваем только вакансии, у которых заполнено хотя бы одно из двух полей с зарплатой.\n",
        "2. Если заполнены оба поля с зарплатой, то считаем зарплату по каждой вакансии как сумму двух полей, делённую на 2. Если заполнено только одно из полей, то его и считаем зарплатой по вакансии.\n",
        "3. Если в расчётах участвует null, в результате он тоже даст null (посмотрите, что возвращает запрос select 1 + null). Чтобы избежать этой ситуацию, мы воспользуемся функцией [coalesce](https://postgrespro.ru/docs/postgresql/9.5/functions-conditional#functions-coalesce-nvl-ifnull), которая заменит null на значение, которое мы передадим. Например, посмотрите, что возвращает запрос `select 1 + coalesce(null, 0)`\n",
        "\n",
        "Выясните, на какую зарплату в среднем может рассчитывать дата-сайентист с опытом работы от 3 до 6 лет. Результат округлите до целого числа. "
      ]
    },
    {
      "cell_type": "code",
      "execution_count": 374,
      "id": "6a743d39-5204-48d3-8271-b9f88e68d40e",
      "metadata": {
        "id": "6a743d39-5204-48d3-8271-b9f88e68d40e"
      },
      "outputs": [
        {
          "name": "stdout",
          "output_type": "stream",
          "text": [
            "Результат запроса:\n",
            " ds_avg_salary\n",
            "      243115.0\n",
            "\n"
          ]
        },
        {
          "data": {
            "text/plain": [
              "<AxesSubplot: >"
            ]
          },
          "execution_count": 374,
          "metadata": {},
          "output_type": "execute_result"
        },
        {
          "data": {
            "image/png": "[encoded data removed]",
            "text/plain": [
              "<Figure size 640x480 with 1 Axes>"
            ]
          },
          "metadata": {},
          "output_type": "display_data"
        }
      ],
      "source": [
        "load_and_show_data(f'''\n",
        "    SELECT  Round(\n",
        "                Avg(\n",
        "                    (Coalesce(salary_from, salary_to) + Coalesce(salary_to, salary_from)) / 2\n",
        "                )\n",
        "            ) AS ds_avg_salary\n",
        "    FROM vacancies\n",
        "    WHERE  experience = 'От 3 до 6 лет' AND (\n",
        "            salary_to   IS NOT NULL OR\n",
        "            salary_from IS NOT NULL\n",
        "        ) AND (\n",
        "            Lower(name) LIKE '%data scientist%' OR\n",
        "            Lower(name) LIKE '%data science%'   OR\n",
        "            Lower(name) LIKE '%исследователь данных%' OR\n",
        "            Lower(name) LIKE '%machine learning%' OR\n",
        "            Lower(name) LIKE '%машинн%обучен%%' OR (\n",
        "                name LIKE '%ML%' AND\n",
        "                name NOT LIKE '%HTML%'\n",
        "            )\n",
        "        )\n",
        "''');\n",
        "\n",
        "print()\n",
        "\n",
        "results['6.6'] = load_and_show_data(f'''\n",
        "    SELECT  (Coalesce(salary_from, salary_to) + Coalesce(salary_to, salary_from)) / 2 AS salary\n",
        "    FROM vacancies\n",
        "    WHERE  (\n",
        "            salary_to   IS NOT NULL OR\n",
        "            salary_from IS NOT NULL\n",
        "        ) AND (\n",
        "            Lower(name) LIKE '%data scientist%' OR\n",
        "            Lower(name) LIKE '%data science%'   OR\n",
        "            Lower(name) LIKE '%исследователь данных%' OR\n",
        "            Lower(name) LIKE '%machine learning%' OR\n",
        "            Lower(name) LIKE '%машинн%обучен%%' OR (\n",
        "                name LIKE '%ML%' AND\n",
        "                name NOT LIKE '%HTML%'\n",
        "            )\n",
        "        )\n",
        "''', show_result=False);\n",
        "\n",
        "results['6.6'].boxplot()\n"
      ]
    },
    {
      "cell_type": "markdown",
      "id": "6a7892b4-4113-4746-adce-18aa2844f18e",
      "metadata": {
        "id": "6a7892b4-4113-4746-adce-18aa2844f18e"
      },
      "source": [
        "***"
      ]
    },
    {
      "attachments": {},
      "cell_type": "markdown",
      "id": "UjLWUptVwY1o",
      "metadata": {
        "id": "UjLWUptVwY1o"
      },
      "source": [
        "### Выводы по предметному анализу(DataSience) (Юнит 6)\n",
        "\n",
        "1) Вакансии конкретно для DataSience занимают примерно 3.6% (1771 / 49197 * 100) от общего числа вакансий, что в общем-то не мало.\n",
        "2) Среди представленных вакансий найдется место и юниорам 2.9% (51 / 1771 * 100)\n",
        "3) Впечатлила ЗП (см. график), новая профессия выбрана не зря."
      ]
    },
    {
      "cell_type": "markdown",
      "id": "c0ED6fh7wiBT",
      "metadata": {
        "id": "c0ED6fh7wiBT"
      },
      "source": [
        "# Общий вывод по проекту"
      ]
    },
    {
      "cell_type": "code",
      "execution_count": 375,
      "id": "h9B3BL-wwj18",
      "metadata": {
        "id": "h9B3BL-wwj18"
      },
      "outputs": [
        {
          "name": "stdout",
          "output_type": "stream",
          "text": [
            "\n",
            "Результат запроса:\n",
            "                                       short_name  vacancies_cnt\n",
            "                                       Спецремонт            151\n",
            "                           Поляков Денис Иванович            127\n",
            "                         Иннотех, Группа компаний            122\n",
            "                                DNS Головной офис             72\n",
            "                                        ООО ЕФИН              71\n",
            "                                            АЛНАС             69\n",
            "                                           Диплей             68\n",
            "                   РУСАЛ, Центр подбора персонала             54\n",
            "                                       Employcity             47\n",
            "             Ростелеком Информационные Технологии             46\n",
            "                                             Эр-1             44\n",
            "                 АЛРОСА Информационные технологии             42\n",
            "                                             Кама             39\n",
            "                                          JCat.ru             34\n",
            "                               Pride Games Studio             34\n",
            "                                 Reelmotion games             34\n",
            "                                          4people             32\n",
            "                                            ЦИФРА             30\n",
            "                                       A4.finance             30\n",
            "                                             Нэти             29\n",
            "Группа компаний Современные транспортные технолог             28\n",
            "                                     Gaijin Games             27\n",
            "                                 Maxim technology             27\n",
            "                                    ГКУ Инфогород             26\n",
            "                                   Диалог Регионы             26\n",
            "                                        Сима-ленд             25\n",
            "                                   EvenBet Gaming             25\n",
            "                                         Софт Нск             24\n",
            "                                      Новосталь-М             23\n",
            "                      Центр корпоративных решений             22\n",
            "                                   Промэкспертиза             22\n",
            "                                  Софт Инжиниринг             22\n",
            "                                              Abi             22\n",
            "                                       Foundarium             21\n",
            "                                  Цифровая Сибирь             21\n",
            "                                       КонсалтПро             21\n",
            "                                        INTE-STAT             21\n",
            "                                    AKRON HOLDING             21\n",
            "                         СОУШЛ ИМПАКТ ТЕХНОЛОДЖИС             19\n",
            "                                       РСХБ-Интех             19\n",
            "                                    Liepa Limited             19\n",
            "                                   SayHire.agency             19\n",
            "                                          Мой Дом             19\n",
            "                                   Компания 05.ру             19\n",
            "Лучшие работодатели Урала (ИП Тищенко Иван Виктор             18\n",
            "                                          Blogman             18\n",
            "                                  МАГ Девелопмент             16\n",
            "        Развлекательный комплекс Tigre de Cristal             15\n",
            "                                    Ржд-Техсервис             15\n",
            "                                        АВИТО ТЕХ             15\n",
            "                                          Бастион             14\n",
            "                                 Гарда Технологии             13\n",
            "                                              АБР             13\n",
            "                    Сиренц Глобал Мерчантс Восток             13\n",
            "          ГКУ МО Центр Агропромышленного Развития             13\n",
            "Научно-производственное предприятие Калужский при             12\n",
            "                                     ИКСПЛАНЕТ.РУ             12\n",
            "                            ЛАМА, Группа компаний             12\n",
            "                                           МИРТЕК             12\n",
            "                                            Лоция             12\n",
            "                                     Почта Сервис             12\n",
            "КГКУ Центр информационных технологий Красноярског             11\n",
            "                                            ilink             11\n",
            "Аналитический центр при Правительстве Российской              11\n",
            "                                      Восхождение             11\n",
            "       ГБУ СО Оператор электронного правительства             11\n",
            "                                         Меркурий             11\n",
            "                                           ОТ-ОЙЛ             11\n",
            "                 Представитель компании EYECONWEB             11\n",
            "                                           Лидгид             11\n",
            "                                        Норд Клан             11\n",
            "                                             РИВЦ             10\n",
            "                                       NAN Agency             10\n",
            "                                              ОМС             10\n",
            "                                        BFG Group             10\n",
            "                                        Marfatech             10\n",
            "                                       Апогей Крд             10\n",
            "            ГКУ «Центр цифровой трансформации РТ»             10\n",
            "                                  МКК КапиталЪ-НТ             10\n",
            "                                     Центр Орбита             10\n",
            "                                            ЦИБИТ             10\n",
            "                                           Соткон             10\n",
            "                                     Хайкор Геймз             10\n",
            "                                               СТ             10\n",
            "                                        Emphasoft             10\n",
            "Результат запроса:\n",
            "                                       short_name  vacancies_cnt\n",
            "              Разработка программного обеспечения          12499\n",
            "Системная интеграция,  автоматизации технологичес          11034\n",
            "Интернет-компания (поисковики, платежные системы,           6413\n",
            "                                             Банк           2742\n",
            "                                  Мобильная связь           1585\n",
            "Электронно-вычислительная, оптическая, контрольно           1503\n",
            "Промышленное, бытовое электрооборудование и элект           1146\n",
            "                               Кадровые агентства           1143\n",
            "                            Консалтинговые услуги           1137\n",
            "                               Интернет-провайдер           1095\n",
            "                     Розничная сеть (продуктовая)           1034\n",
            "                              Фиксированная связь           1028\n",
            "                             Оптоволоконная связь           1012\n",
            "Маркетинговые, рекламные, BTL, дизайнерские, Even           1001\n",
            "                                 Интернет-магазин            788\n",
            "Оборудование и станки для добывающей, энергетичес            646\n",
            "      Нефтепереработка, нефтехимия (производство)            573\n",
            "Металлические изделия, металлоконструкции (произв            568\n",
            "Стройматериалы, сборные конструкции для ремонта и            517\n",
            "                ГСМ, топливо (розничная торговля)            508\n",
            "Бытовая техника, электроника, климатическое обору            504\n",
            "Финансово-кредитное посредничество (биржа, брокер            486\n",
            "                      Государственные организации            485\n",
            "                       Коллекторская деятельность            483\n",
            "Легковые, грузовые автомобили, мототехника, автоб            469\n",
            "       Розничная сеть (одежда, обувь, аксессуары)            456\n",
            "Управляющая, инвестиционная компания (управление             449\n",
            "Дорожно-строительная техника, сельскохозяйственна            442\n",
            "     ГСМ, топливо (продвижение, оптовая торговля)            434\n",
            "                  Мясная продукция (производство)            413\n",
            "              Лечебно-профилактические учреждения            400\n",
            "      Земледелие, растениеводство, животноводство            392\n",
            "           Розничная сеть (DIY и товары для дома)            383\n",
            "Фармацевтическая продукция (продвижение, оптовая             381\n",
            "                      Архитектура, проектирование            375\n",
            "Строительство коммерческих объектов (торговые пло            364\n",
            "                    Курьерская, почтовая доставка            362\n",
            "Продукция черной металлургии (продвижение, оптова            361\n",
            "                                 Складские услуги            355\n",
            "    Розничная сеть (электроника, бытовая техника)            340\n",
            "Добыча и обогащение руд черных, цветных, драгоцен            336\n",
            "                          Автомобильные перевозки            335\n",
            "                       Строительство промышленное            330\n",
            "Черная металлургия (производство чугуна, стали, п            320\n",
            "Розничная сеть (drogerie, товары повседневного сп            317\n",
            "Автокомпоненты, запчасти, шины (продвижение, опто            314\n",
            "                         Добыча и обогащение угля            311\n",
            "Сельскохозяйственная продукция (продвижение, опто            309\n",
            "         Ресторан, общественное питание, фаст-фуд            303\n",
            "                           Строительство жилищное            295\n",
            "Транспортно-логистические комплексы, порты (возду            292\n",
            " Мясная продукция (продвижение, оптовая торговля)            289\n",
            "                    Несетевая розница, мелкий опт            288\n",
            "          Автозапчасти, шины (розничная торговля)            286\n",
            "Производство мультимедиа, контента, редакторская             283\n",
            "                           Туристические компании            282\n",
            "                     Страхование, перестрахование            278\n",
            "         Повышение квалификации, переквалификация            276\n",
            "                Колл-центры, диспетчерские службы            271\n",
            "        Фармацевтическая продукция (производство)            268\n",
            "Безалкогольные напитки (продвижение, оптовая торг            261\n",
            "Оборудование для пищевой промышленности, упаковки            256\n",
            "           Передача, распределение электроэнергии            255\n",
            "Авиационная, вертолетная, аэрокосмическая промышл            250\n",
            "Бытовая химия, парфюмерия, косметика  (продвижени            249\n",
            "Розничная торговля автомобилями (дилерский центр)            245\n",
            "                                   Аптека, оптика            243\n",
            "Услуги по ведению бухгалтерского и налогового уче            237\n",
            "                Молочная продукция (производство)            220\n",
            "Научно-исследовательская, научная, академическая             219\n",
            "Оборудование и станки для металлургии и металлооб            214\n",
            "Производство и ремонт военной техники, оборудован            212\n",
            "Металлические изделия, металлоконструкции (продви            211\n",
            "Инженерно-изыскательские, гидрогеологические, гео            206\n",
            "     Техническое обслуживание, ремонт автомобилей            202\n",
            "                           Вуз, ссуз колледж, ПТУ            201\n",
            "Алкогольные напитки (продвижение, оптовая торговл            201\n",
            "Инфраструктурная компания в энергетике (СО ЕЭС, А            199\n",
            "                                      Девелопмент            194\n",
            "                                        Гостиница            193\n",
            "      Строительство объектов нефтегазовой отрасли            190\n",
            "          Автокомпоненты, запчасти (производство)            190\n",
            "Масложировая продукция (продвижение, оптовая торг            189\n",
            "Одежда, обувь, аксессуары, текстиль  (продвижение            188\n",
            "Кондитерские изделия (продвижение, оптовая торгов            188\n",
            "Одежда, обувь, аксессуары, текстиль (производство            181\n",
            "    Цветная металлургия (выплавка, металлопрокат)            181\n",
            "                          Розничная сеть (мебель)            177\n",
            "              Безопасность, охранная деятельность            175\n",
            "             Лаборатория, исследовательский центр            173\n",
            "Драгоценные, благородные и редкие металлы (продви            172\n",
            "Полуфабрикаты, в том числе замороженные (производ            172\n",
            "                Розничная сеть (мобильный ритейл)            170\n",
            "Аудит, управленческий учет, финансово-юридический            168\n",
            "Драгоценные, благородные и редкие металлы (произв            168\n",
            "           Управление и эксплуатация недвижимости            168\n",
            "           Мебель (продвижение, оптовая торговля)            166\n",
            "       Нефтехимия (продвижение, оптовая торговля)            162\n",
            "              Кондитерские изделия (производство)            161\n",
            "                               Бизнес-образование            158\n",
            "            Масложировая продукция (производство)            158\n",
            "                                Спутниковая связь            156\n",
            "Управляющая компания группы, холдинга, штаб-кварт            154\n",
            "Добыча и обогащение минерального сырья (соль, сер            153\n",
            "        Строительство дорожное и инфраструктурное            152\n",
            "                  Агентские услуги в недвижимости            148\n",
            "Медицинское, диагностическое оборудование, инстру            146\n",
            "Бытовая химия, парфюмерия, косметика  (производст            146\n",
            "                         Клинические исследования            143\n",
            "Теплоэнергетика (генерация электроэнергии и тепла            142\n",
            "                            Мебель (производство)            142\n",
            "                   Деревообработка (производство)            141\n",
            "                        Издательская деятельность            135\n",
            "                Сбыт и потребление электроэнергии            135\n",
            "            Безалкогольные напитки (производство)            133\n",
            "                                     Добыча нефти            132\n",
            "                         Юридическое обслуживание            129\n",
            "Молочная продукция (продвижение, оптовая торговля            124\n",
            "           Розничная сеть (парфюмерия, косметика)            124\n",
            "Продукция цветной металлургии (продвижение, оптов            122\n",
            "Розничная сеть (книги, игрушки, подарки, часы и п            119\n",
            " Производство печатной, полиграфической продукции            117\n",
            "                                      Добыча газа            113\n",
            "                     Строительство энергетическое            112\n",
            "Посуда, свет, товары для дома  (продвижение, опто            112\n",
            "                             Теле- и радиовещание            110\n",
            "                        Железнодорожные перевозки            108\n",
            "        Чай, кофе (продвижение, оптовая торговля)            107\n",
            "                Органическая химия (производство)            107\n",
            "Оборудование и станки для отраслей легкой промышл            105\n",
            "Корма для животных (продвижение, оптовая торговля            104\n",
            "Продукция деревообработки (продвижение, оптовая т            104\n",
            "              Неорганическая химия (производство)            101\n",
            "                                    Авиаперевозки            101\n",
            "Полуфабрикаты, в том числе замороженные  (продвиж            100\n",
            "               Розничная сеть (спортивные товары)            100\n",
            "       Резина, пластмасса и прочее (производство)             98\n",
            "                                     Судостроение             95\n",
            "                             Теплоснабжение (ТЭЦ)             94\n",
            "Контроль качества, экспертиза, испытания и сертиф             93\n",
            "               Розничная сеть (ювелирные изделия)             93\n",
            "                         Двигатели (производство)             92\n",
            "       Сантехника (продвижение, оптовая торговля)             91\n",
            " Распространение мультимедиа и печатной продукции             91\n",
            "  Детское питание (продвижение, оптовая торговля)             85\n",
            "Продукция авиационной, аэрокосмической, вертолетн             83\n",
            "Неорганическая химия (продвижение, оптовая торгов             82\n",
            "   Железнодорожное машиностроение, вагоностроение             80\n",
            "                               Центры развлечения             80\n",
            "Оборудование для ресторанов, гостиниц, кейтеринга             79\n",
            "Продукция железнодорожного машиностроения, вагоно             78\n",
            "                                              НПФ             76\n",
            "                      Обучение иностранным языкам             75\n",
            "Бетон, кирпич, стекло и прочие силикаты (производ             74\n",
            "Распространение телепрограмм, кино (кабельное тел             73\n",
            "                       ВЭД, таможенное оформление             72\n",
            "                Консалтинг, оценка в недвижимости             72\n",
            "Органическая химия (продвижение, оптовая торговля             72\n",
            "                         Агрохимия (производство)             71\n",
            "     Ювелирные изделия, бижутерия  (производство)             70\n",
            "                               Школа, детский сад             69\n",
            "    Посуда, свет, товары для дома  (производство)             68\n",
            "                  Транспортировка, хранение нефти             67\n",
            "                                 Переработка газа             67\n",
            "                             Тренинговые компании             65\n",
            "                      Водоснабжение и канализация             63\n",
            "  Строительство объектов металлургической отрасли             63\n",
            "Канцтовары, расходные материалы (продвижение, опт             62\n",
            "Бетон, кирпич, стекло и прочие силикаты (продвиже             62\n",
            "Строительство объектов телекоммуникационной отрас             59\n",
            "             Хлебобулочные изделия (производство)             57\n",
            "                Розничная сеть (товары для детей)             56\n",
            "                        Морские, речные перевозки             55\n",
            "                              Лизинговые компании             54\n",
            "               Пищевые концентраты (производство)             53\n",
            "        Слаботочные сети (монтаж, сервис, ремонт)             51\n",
            "     Услуги по организации поездок и бронированию             51\n",
            "           Табак  (продвижение, оптовая торговля)             50\n",
            "          Ликероводочная продукция (производство)             49\n",
            "Ювелирные изделия, бижутерия  (продвижение, оптов             49\n",
            "Лакокрасочная продукция, сырье (продвижение, опто             49\n",
            "Оборудование для деревообработки, заготовки леса,             46\n",
            "                               Продюсерский центр             46\n",
            "Консервированная продукция (продвижение, оптовая              45\n",
            "                             Снеки (производство)             44\n",
            "    Лакокрасочная продукция, сырье (производство)             44\n",
            "     Благоустройство и уборка территорий и зданий             43\n",
            "                                   Салоны красоты             42\n",
            "            Снеки (продвижение, оптовая торговля)             42\n",
            "  Гидроэнергетика (генерация электроэнергии, ГЭС)             42\n",
            "                        Спортивные и фитнес-клубы             42\n",
            "                        Сантехника (производство)             42\n",
            "                                       Зоомагазин             42\n",
            "                   Транспортировка, хранение газа             41\n",
            "                Корма для животных (производство)             41\n",
            " Товары для детей (продвижение, оптовая торговля)             39\n",
            "Экологическое обслуживание, водоочистка, утилизац             39\n",
            "                                  Энергоснабжение             37\n",
            "Финансовые услуги (кэптивные банки и лизинговые к             37\n",
            "        Консервированная продукция (производство)             36\n",
            "                              Пиво (производство)             36\n",
            "         Консалтинг в области энергоэффективности             36\n",
            "                       Мука, крупы (производство)             34\n",
            "Атомная энергетика (генерация электроэнергии, АЭС             34\n",
            "            Сахар (продвижение, оптовая торговля)             33\n",
            "                            Музей, галерея, театр             33\n",
            "                                   Игорный бизнес             32\n",
            "Обучение искусствам (рисование, пение, танцы, фот             32\n",
            "Альтернативная энергетика: гео-, ветро-, солнце-,             32\n",
            "                  Киностудии и студии звукозаписи             30\n",
            "                  Товары для детей (производство)             30\n",
            "Целлюлозно-бумажная продукция (продвижение, оптов             30\n",
            "Резина, пластмасса и прочее (продвижение, оптовая             29\n",
            "Пищевые концентраты (продвижение, оптовая торговл             29\n",
            "        Агрохимия (продвижение, оптовая торговля)             29\n",
            "        Двигатели (продвижение, оптовая торговля)             29\n",
            "                Кейтеринг (выездное обслуживание)             28\n",
            "                              Вино (производство)             28\n",
            "                       Ремонт зданий и сооружений             28\n",
            "Рыба и морепродукты (продвижение, оптовая торговл             27\n",
            "Макаронные изделия (продвижение, оптовая торговля             27\n",
            "Вентиляция и кондиционирование (монтаж, сервис, р             27\n",
            "                       Утилизация бытовых отходов             27\n",
            "   Канцтовары, расходные материалы (производство)             26\n",
            "                Макаронные изделия (производство)             26\n",
            "      Мука, крупы (продвижение, оптовая торговля)             25\n",
            "                 Целлюлозно-бумажное производство             24\n",
            "                       Переводческая деятельность             24\n",
            "Столярно-строительные изделия (продвижение, оптов             24\n",
            "           Общественная, политическая организация             23\n",
            "                   Детское питание (производство)             23\n",
            "                   Учреждение соц.помощи и защиты             22\n",
            "                        Ветеринарная деятельность             21\n",
            "                             Сахар (производство)             21\n",
            "               Двигатели (монтаж, сервис, ремонт)             20\n",
            "Профессиональная, предпринимательская организация             19\n",
            "                            Табак  (производство)             19\n",
            "               Рыба и морепродукты (производство)             19\n",
            "     Столярно-строительные изделия (производство)             18\n",
            "                         Чай, кофе (производство)             18\n",
            "                           Факторинговые компании             17\n",
            "Хлебобулочные изделия (продвижение, оптовая торго             16\n",
            "Спортивные товары и оборудование (продвижение, оп             16\n",
            "                              Фото- и видеоуслуги             15\n",
            "  Обеспечение пожарной безопасности, молниезащиты             15\n",
            "                              Спортивное обучение             15\n",
            "                               Аренда автомобилей             14\n",
            "                    Благотворительная организация             12\n",
            "Свежие овощи, фрукты (продвижение, оптовая торгов             11\n",
            "  Спортивные товары и оборудование (производство)             11\n",
            "Продукция судостроения (продвижение, оптовая торг             10\n",
            "                Вендинг (торговля через автоматы)             10\n",
            "Производство и продажа рекламно-сувенирной продук             10\n",
            "                                Домашний персонал              9\n",
            "                         Рыболовство, рыбоводство              9\n",
            "              Архив, библиотека, искусствоведение              9\n",
            "                                       Судоремонт              7\n",
            "      Лифтовое хозяйство (монтаж, сервис, ремонт)              7\n",
            "                                            Такси              7\n",
            "                     Пошив, ремонт одежды и обуви              6\n",
            "                               Фонд, грантодатель              6\n",
            "                             Спортивная федерация              5\n",
            "                              Ветеринарная аптека              5\n",
            "                                        Химчистка              4\n",
            "           Ассоциация в сфере культуры, искусства              2\n",
            "                                Ритуальные услуги              1\n",
            "                                        Автошкола              1\n"
          ]
        }
      ],
      "source": [
        "# подведем итог исследования, обобщите выводы\n",
        "# здесь можно (это будет плюсом) провести дополнительные исследования данных, сделать прогнозы, продумать варианты продолжения исследования\n",
        "\n",
        "\n",
        "# Дополнительные исследования по 5.4\n",
        "print()\n",
        "\n",
        "load_and_show_data(f'''\n",
        "    SELECT Substring(e.name, 0, 50) AS short_name, Count(v.id) AS vacancies_cnt\n",
        "    FROM employers e\n",
        "    JOIN vacancies v ON e.id = v.employer_id\n",
        "    LEFT JOIN employers_industries ei ON e.id = ei.employer_id\n",
        "    WHERE ei.employer_id IS NULL\n",
        "    GROUP BY 1\n",
        "    HAVING Count(v.id) >= 10\n",
        "    ORDER BY vacancies_cnt DESC\n",
        "''');\n",
        "\n",
        "load_and_show_data(f'''\n",
        "    SELECT Substring(i.name, 0, 50) AS short_name, Count(v.id) AS vacancies_cnt\n",
        "    FROM industries i\n",
        "    LEFT JOIN employers_industries ei ON i.id = ei.industry_id\n",
        "    JOIN employers e ON e.id = ei.employer_id\n",
        "    JOIN vacancies v ON e.id = v.employer_id\n",
        "    GROUP BY 1\n",
        "    ORDER BY vacancies_cnt DESC\n",
        "''');"
      ]
    },
    {
      "cell_type": "code",
      "execution_count": 376,
      "id": "c6463ca7",
      "metadata": {},
      "outputs": [
        {
          "name": "stdout",
          "output_type": "stream",
          "text": [
            "Общее время работы \"ПРОГРАММЫ\" (при условии запуска \"Run All\"): 5.44 сек., что очень даже неплохо.\n"
          ]
        }
      ],
      "source": [
        "end_time = time.time()\n",
        "run_time = round(end_time - start_time, 2)\n",
        "print('Общее время работы \"ПРОГРАММЫ\" (при условии запуска \"Run All\"): {} сек., {}'.format(\n",
        "    run_time,\n",
        "    \"что очень даже неплохо.\" if run_time < 10 else \"ну, так-себе, нормально\")\n",
        "    )"
      ]
    }
  ],
  "metadata": {
    "colab": {
      "collapsed_sections": [
        "8d62a9f3-f64e-4fe7-bdac-c4dffa16155e"
      ],
      "provenance": []
    },
    "kernelspec": {
      "display_name": "Python 3",
      "language": "python",
      "name": "python3"
    },
    "language_info": {
      "codemirror_mode": {
        "name": "ipython",
        "version": 3
      },
      "file_extension": ".py",
      "mimetype": "text/x-python",
      "name": "python",
      "nbconvert_exporter": "python",
      "pygments_lexer": "ipython3",
      "version": "3.10.0"
    },
    "vscode": {
      "interpreter": {
        "hash": "369f2c481f4da34e4445cda3fffd2e751bd1c4d706f27375911949ba6bb62e1c"
      }
    }
  },
  "nbformat": 4,
  "nbformat_minor": 5
}
